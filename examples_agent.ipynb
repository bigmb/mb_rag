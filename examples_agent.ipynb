{
 "cells": [
  {
   "cell_type": "markdown",
   "metadata": {},
   "source": [
    "# Agent Runner Examples\n",
    "\n",
    "This notebook demonstrates how to use the AgentRunner class to create and run AI agents with different configurations and tools."
   ]
  },
  {
   "cell_type": "code",
   "execution_count": null,
   "metadata": {},
   "source": [
    "from mb_rag.agents.run_agent import AgentRunner, AgentConfig\n",
    "from langchain.tools import DuckDuckGoSearchRun, WikipediaQueryRun\n",
    "from langchain_community.tools import WolframAlphaQueryRun\n",
    "import os"
   ]
  },
  {
   "cell_type": "markdown",
   "metadata": {},
   "source": [
    "## 1. Basic Agent Setup\n",
    "\n",
    "Create a basic agent with default configuration"
   ]
  },
  {
   "cell_type": "code",
   "execution_count": null,
   "metadata": {},
   "source": [
    "# Create agent runner with default config\n",
    "agent_runner = AgentRunner()\n",
    "\n",
    "# Set up basic search tools\n",
    "search = DuckDuckGoSearchRun()\n",
    "agent_runner.tools = [search]\n",
    "\n",
    "# Run a simple query\n",
    "response = agent_runner.run_agent_chain(\"What is the capital of France?\")\n",
    "print(\"Response:\", response)"
   ]
  },
  {
   "cell_type": "markdown",
   "metadata": {},
   "source": [
    "## 2. Custom Configuration\n",
    "\n",
    "Create an agent with custom configuration"
   ]
  },
  {
   "cell_type": "code",
   "execution_count": null,
   "metadata": {},
   "source": [
    "# Create custom config\n",
    "config = AgentConfig(\n",
    "    model_name=\"gpt-4\",\n",
    "    model_type=\"openai\",\n",
    "    prompt_type=\"basic\",\n",
    "    verbose=True\n",
    ")\n",
    "\n",
    "# Create agent runner with custom config\n",
    "custom_agent = AgentRunner(config)\n",
    "\n",
    "# Set up multiple tools\n",
    "search = DuckDuckGoSearchRun()\n",
    "wiki = WikipediaQueryRun()\n",
    "custom_agent.tools = [search, wiki]\n",
    "\n",
    "# Run a query that might use multiple tools\n",
    "response = custom_agent.run_agent_chain(\n",
    "    \"Who was Albert Einstein and what were his major contributions to physics?\"\n",
    ")\n",
    "print(\"Response:\", response)"
   ]
    }
   ],
   "source": [
    "agent_runner_functions?"
   ]
  },
  {
   "cell_type": "code",
   "execution_count": 4,
   "metadata": {},
   "outputs": [
    {
     "ename": "NameError",
     "evalue": "name 'agent_runner_functions' is not defined",
     "output_type": "error",
     "traceback": [
      "\u001b[0;31m---------------------------------------------------------------------------\u001b[0m",
      "\u001b[0;31mNameError\u001b[0m                                 Traceback (most recent call last)",
      "Cell \u001b[0;32mIn[4], line 1\u001b[0m\n\u001b[0;32m----> 1\u001b[0m my_agent \u001b[38;5;241m=\u001b[39m \u001b[43magent_runner_functions\u001b[49m()\n",
      "\u001b[0;31mNameError\u001b[0m: name 'agent_runner_functions' is not defined"
     ]
    }
   ],
   "source": [
    "my_agent = agent_runner_functions()"
   ]
  },
  {
   "cell_type": "code",
   "execution_count": 8,
   "metadata": {},
   "outputs": [],
   "source": [
    "from langchain.pydantic_v1 import BaseModel, Field\n",
    "from langchain_core.tools import BaseTool\n",
    "from typing import Type\n",
    "import os\n",
    "import tavily\n",
    "class SimpleSearchInput(BaseModel):\n",
    "    query: str = Field(description=\"should be a search query\")\n",
    "\n",
    "class SimpleSearchTool(BaseTool):\n",
    "    name = \"simple_search\"\n",
    "    description = \"useful for when you need to answer questions about current events\"\n",
    "    args_schema: Type[BaseModel] = SimpleSearchInput\n",
    "\n",
    "    def _run(\n",
    "        self,\n",
    "        query: str,\n",
    "    ) -> str:\n",
    "        \"\"\"Use the tool.\"\"\"\n",
    "        from tavily import TavilyClient\n",
    "\n",
    "        api_key = os.getenv(\"TAVILY_API_KEY\")\n",
    "        client = TavilyClient(api_key=api_key)\n",
    "        results = client.search(query=query)\n",
    "        return f\"Search results for: {query}\\n\\n\\n{results}\\n\"\n"
   ]
  },
  {
   "cell_type": "code",
   "execution_count": 9,
   "metadata": {},
   "outputs": [],
   "source": [
    "tools = [SimpleSearchTool()]"
   ]
  },
  {
   "cell_type": "code",
   "execution_count": 10,
   "metadata": {},
   "outputs": [
    {
     "data": {
      "text/plain": [
       "<bound method agent_runner_functions.tools of <mb_rag.agents.run_agent.agent_runner_functions object at 0x75696bb7ddd0>>"
      ]
     },
     "execution_count": 10,
     "metadata": {},
     "output_type": "execute_result"
    }
   ],
   "source": [
    "my_agent.tools(tools)"
   ]
  },
  {
   "cell_type": "code",
   "execution_count": 26,
   "metadata": {},
   "outputs": [],
   "source": [
    "agent_c = my_agent.create_agent(tools=tools)"
   ]
  },
  {
   "cell_type": "code",
   "execution_count": 28,
   "metadata": {},
   "outputs": [],
   "source": [
    "agent_exec =my_agent.agent_executor(agent_c,tools=tools)"
   ]
  },
  {
   "cell_type": "code",
   "execution_count": 29,
   "metadata": {},
   "outputs": [
    {
     "name": "stdout",
     "output_type": "stream",
     "text": [
      "\n",
      "\n",
      "\u001b[1m> Entering new AgentExecutor chain...\u001b[0m\n",
      "\u001b[32;1m\u001b[1;3m\n",
      "Invoking: `simple_search` with `{'query': 'current weather in London'}`\n",
      "\n",
      "\n",
      "\u001b[0m\u001b[36;1m\u001b[1;3mSearch results for: current weather in London\n",
      "\n",
      "\n",
      "{'query': 'current weather in London', 'follow_up_questions': None, 'answer': None, 'images': [], 'results': [{'title': 'Weather in London', 'url': 'https://www.weatherapi.com/', 'content': \"{'location': {'name': 'London', 'region': 'City of London, Greater London', 'country': 'United Kingdom', 'lat': 51.52, 'lon': -0.11, 'tz_id': 'Europe/London', 'localtime_epoch': 1725337114, 'localtime': '2024-09-03 05:18'}, 'current': {'last_updated_epoch': 1725336900, 'last_updated': '2024-09-03 05:15', 'temp_c': 17.1, 'temp_f': 62.8, 'is_day': 0, 'condition': {'text': 'Overcast', 'icon': '//cdn.weatherapi.com/weather/64x64/night/122.png', 'code': 1009}, 'wind_mph': 3.8, 'wind_kph': 6.1, 'wind_degree': 200, 'wind_dir': 'SSW', 'pressure_mb': 1011.0, 'pressure_in': 29.85, 'precip_mm': 0.0, 'precip_in': 0.0, 'humidity': 94, 'cloud': 100, 'feelslike_c': 17.1, 'feelslike_f': 62.8, 'windchill_c': 17.0, 'windchill_f': 62.5, 'heatindex_c': 17.0, 'heatindex_f': 62.5, 'dewpoint_c': 14.9, 'dewpoint_f': 58.8, 'vis_km': 10.0, 'vis_miles': 6.0, 'uv': 1.0, 'gust_mph': 8.5, 'gust_kph': 13.6}}\", 'score': 0.9956758, 'raw_content': None}, {'title': 'Weather in March 2024 in London, England, United Kingdom - timeanddate.com', 'url': 'https://www.timeanddate.com/weather/uk/london/historic?month=3&year=2024', 'content': 'See more current weather. ... March 2024 Weather in London — Graph °F. See Hour-by-hour Forecast for upcoming weather. See weather overview. High & Low Weather Summary for March 2024 Temperature Humidity Pressure; High: 64 °F (Mar 20, 3:20 pm) 100% (Mar 1, 8:50 am)', 'score': 0.99442345, 'raw_content': None}, {'title': 'Weather in London in March 2024', 'url': 'https://world-weather.info/forecast/united_kingdom/london/march-2024/', 'content': 'Extended weather forecast in London. Hourly Week 10 days 14 days 30 days Year. Detailed ⚡ London Weather Forecast for March 2024 - day/night 🌡️ temperatures, precipitations - World-Weather.info.', 'score': 0.76541805, 'raw_content': None}, {'title': 'Hourly forecast for London, England, United Kingdom - timeanddate.com', 'url': 'https://www.timeanddate.com/weather/uk/london/hourly', 'content': 'Hour-by-Hour Forecast for London, England, United Kingdom. Weather Today Weather Hourly 14 Day Forecast Yesterday/Past Weather Climate (Averages) Currently: 57 °F. Overcast. (Weather station: Northolt, United Kingdom). See more current weather.', 'score': 0.7640124, 'raw_content': None}, {'title': 'London, England, United Kingdom 14 day weather forecast - timeanddate.com', 'url': 'https://www.timeanddate.com/weather/uk/london/ext', 'content': 'London 14 Day Extended Forecast. Time/General. Time Zone. DST Changes. Sun & Moon. Weather Today Weather Hourly 14 Day Forecast Yesterday/Past Weather Climate (Averages) Currently: 70 °F. Partly sunny. (Weather station: Northolt, United Kingdom).', 'score': 0.65588725, 'raw_content': None}], 'response_time': 2.99}\n",
      "\u001b[0m\u001b[32;1m\u001b[1;3mThe current weather in London is as follows:\n",
      "\n",
      "- **Temperature**: 17.1°C (62.8°F)\n",
      "- **Condition**: Overcast\n",
      "- **Wind**: 3.8 mph (6.1 kph) from the SSW\n",
      "- **Humidity**: 94%\n",
      "- **Visibility**: 10 km (6 miles)\n",
      "- **Pressure**: 1011.0 mb\n",
      "- **UV Index**: 1 (Low)\n",
      "\n",
      "For more detailed information, you can visit [Weather API](https://www.weatherapi.com/).\u001b[0m\n",
      "\n",
      "\u001b[1m> Finished chain.\u001b[0m\n"
     ]
    },
    {
     "data": {
      "text/plain": [
       "{'input': 'what is the weather in london?',\n",
       " 'output': 'The current weather in London is as follows:\\n\\n- **Temperature**: 17.1°C (62.8°F)\\n- **Condition**: Overcast\\n- **Wind**: 3.8 mph (6.1 kph) from the SSW\\n- **Humidity**: 94%\\n- **Visibility**: 10 km (6 miles)\\n- **Pressure**: 1011.0 mb\\n- **UV Index**: 1 (Low)\\n\\nFor more detailed information, you can visit [Weather API](https://www.weatherapi.com/).'}"
      ]
     },
     "execution_count": 29,
     "metadata": {},
     "output_type": "execute_result"
    }
   ],
   "source": [
    "agent_exec.invoke({\"input\":\"what is the weather in london?\"})"
   ]
  },
  {
   "cell_type": "code",
   "execution_count": 31,
   "metadata": {},
   "outputs": [
    {
     "name": "stdout",
     "output_type": "stream",
     "text": [
      "\n",
      "\n",
      "\u001b[1m> Entering new AgentExecutor chain...\u001b[0m\n",
      "\u001b[32;1m\u001b[1;3m\n",
      "Invoking: `simple_search` with `{'query': 'current weather in London'}`\n",
      "\n",
      "\n",
      "\u001b[0m\u001b[36;1m\u001b[1;3mSearch results for: current weather in London\n",
      "\n",
      "\n",
      "{'query': 'current weather in London', 'follow_up_questions': None, 'answer': None, 'images': [], 'results': [{'title': 'Weather in London', 'url': 'https://www.weatherapi.com/', 'content': \"{'location': {'name': 'London', 'region': 'City of London, Greater London', 'country': 'United Kingdom', 'lat': 51.52, 'lon': -0.11, 'tz_id': 'Europe/London', 'localtime_epoch': 1725337114, 'localtime': '2024-09-03 05:18'}, 'current': {'last_updated_epoch': 1725336900, 'last_updated': '2024-09-03 05:15', 'temp_c': 17.1, 'temp_f': 62.8, 'is_day': 0, 'condition': {'text': 'Overcast', 'icon': '//cdn.weatherapi.com/weather/64x64/night/122.png', 'code': 1009}, 'wind_mph': 3.8, 'wind_kph': 6.1, 'wind_degree': 200, 'wind_dir': 'SSW', 'pressure_mb': 1011.0, 'pressure_in': 29.85, 'precip_mm': 0.0, 'precip_in': 0.0, 'humidity': 94, 'cloud': 100, 'feelslike_c': 17.1, 'feelslike_f': 62.8, 'windchill_c': 17.0, 'windchill_f': 62.5, 'heatindex_c': 17.0, 'heatindex_f': 62.5, 'dewpoint_c': 14.9, 'dewpoint_f': 58.8, 'vis_km': 10.0, 'vis_miles': 6.0, 'uv': 1.0, 'gust_mph': 8.5, 'gust_kph': 13.6}}\", 'score': 0.9949862, 'raw_content': None}, {'title': 'Weather in London in September 2024 - Detailed Forecast', 'url': 'https://www.easeweather.com/europe/united-kingdom/england/greater-london/london/september', 'content': 'The forecast for the first days of September 2024 in London predicts temperatures to be around 23 ° C, close to the historical average.. In general, the average temperature in London at the beginning of September is 23.9 ° C.As the month progressed, temperatures tended to significantly cool down, reaching an average of 19.6 ° C by the end of September.', 'score': 0.97399324, 'raw_content': None}, {'title': 'September 2024 Weather History in London United Kingdom', 'url': 'https://weatherspark.com/h/m/45062/2024/9/Historical-Weather-in-September-2024-in-London-United-Kingdom', 'content': 'September 2024 Weather History in London United Kingdom. The data for this report comes from the London Heathrow Airport. See all nearby weather stations. Latest Report — 8:20 PM. Sun, Sep 1, 2024 22 min ago UTC 19:20 ... are coarsely sampled on a 50 km grid and are therefore unable to reconstruct the local variations of many microclimates ...', 'score': 0.9183339, 'raw_content': None}, {'title': 'Detailed London Weather Forecast for September 2024: Daily ...', 'url': 'https://www.weathertab.com/en/c/e/09/united-kingdom-of-great-britain-and-northern-ireland/england/london/', 'content': 'Explore comprehensive September 2024 weather forecasts for London, including daily high and low temperatures, precipitation risks, and monthly temperature trends. Featuring detailed day-by-day forecasts, dynamic graphs of daily rain probabilities, and temperature trends to help you plan ahead.', 'score': 0.8374871, 'raw_content': None}, {'title': 'Weather in London in September 2024', 'url': 'https://world-weather.info/forecast/united_kingdom/london/september-2024/', 'content': 'Extended weather forecast in London. Hourly Week 10 days 14 days 30 days Year. Detailed ⚡ London Weather Forecast for September 2024 - day/night 🌡️ temperatures, precipitations - World-Weather.info.', 'score': 0.7648916, 'raw_content': None}], 'response_time': 3.11}\n",
      "\u001b[0m\u001b[32;1m\u001b[1;3mThe current weather in London is as follows:\n",
      "\n",
      "- **Temperature**: 17.1°C (62.8°F)\n",
      "- **Condition**: Overcast\n",
      "- **Wind**: 3.8 mph (6.1 kph) from the SSW\n",
      "- **Humidity**: 94%\n",
      "- **Visibility**: 10 km (6 miles)\n",
      "- **Pressure**: 1011.0 mb\n",
      "- **UV Index**: 1\n",
      "\n",
      "It is currently nighttime in London.\u001b[0m\n",
      "\n",
      "\u001b[1m> Finished chain.\u001b[0m\n"
     ]
    }
   ],
   "source": [
    "res =my_agent.agent_invoke(agent_exec,\"what is the weather in london?\")"
   ]
  },
  {
   "cell_type": "code",
   "execution_count": 34,
   "metadata": {},
   "outputs": [
    {
     "data": {
      "text/plain": [
       "{'input': 'what is the weather in london?',\n",
       " 'output': 'The current weather in London is as follows:\\n\\n- **Temperature**: 17.1°C (62.8°F)\\n- **Condition**: Overcast\\n- **Wind**: 3.8 mph (6.1 kph) from the SSW\\n- **Humidity**: 94%\\n- **Visibility**: 10 km (6 miles)\\n- **Pressure**: 1011.0 mb\\n- **UV Index**: 1\\n\\nIt is currently nighttime in London.'}"
      ]
     },
     "execution_count": 34,
     "metadata": {},
     "output_type": "execute_result"
    }
   ],
   "source": [
    "res"
   ]
  },
  {
   "cell_type": "code",
   "execution_count": 33,
   "metadata": {},
   "outputs": [
    {
     "data": {
      "text/plain": [
       "'The current weather in London is as follows:\\n\\n- **Temperature**: 17.1°C (62.8°F)\\n- **Condition**: Overcast\\n- **Wind**: 3.8 mph (6.1 kph) from the SSW\\n- **Humidity**: 94%\\n- **Visibility**: 10 km (6 miles)\\n- **Pressure**: 1011.0 mb\\n- **UV Index**: 1\\n\\nIt is currently nighttime in London.'"
      ]
     },
     "execution_count": 33,
     "metadata": {},
     "output_type": "execute_result"
    }
   ],
   "source": [
    "res[\"output\"]"
   ]
  },
  {
   "cell_type": "code",
   "execution_count": null,
   "metadata": {},
   "outputs": [],
   "source": []
  },
  {
   "cell_type": "code",
   "execution_count": null,
   "metadata": {},
   "outputs": [],
   "source": []
  }
 ],
 "metadata": {
  "kernelspec": {
   "display_name": "Python 3",
   "language": "python",
   "name": "python3"
  },
  "language_info": {
   "codemirror_mode": {
    "name": "ipython",
    "version": 3
   },
   "file_extension": ".py",
   "mimetype": "text/x-python",
   "name": "python",
   "nbconvert_exporter": "python",
   "pygments_lexer": "ipython3",
   "version": "3.10.12"
  }
 },
 "nbformat": 4,
 "nbformat_minor": 2
}
