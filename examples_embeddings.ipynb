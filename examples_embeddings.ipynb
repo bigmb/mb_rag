{
 "cells": [
  {
   "cell_type": "code",
   "execution_count": 1,
   "metadata": {},
   "outputs": [],
   "source": [
    "## Text to embeddings\n",
    "## embeddings available for openai and ollama "
   ]
  },
  {
   "cell_type": "code",
   "execution_count": 1,
   "metadata": {},
   "outputs": [],
   "source": [
    "from mb_rag.rag.embeddings import embedding_generator"
   ]
  },
  {
   "cell_type": "code",
   "execution_count": 2,
   "metadata": {},
   "outputs": [
    {
     "name": "stdout",
     "output_type": "stream",
     "text": [
      "\u001b[0;31mInit signature:\u001b[0m\n",
      "\u001b[0membedding_generator\u001b[0m\u001b[0;34m(\u001b[0m\u001b[0;34m\u001b[0m\n",
      "\u001b[0;34m\u001b[0m    \u001b[0mmodel\u001b[0m\u001b[0;34m:\u001b[0m \u001b[0mstr\u001b[0m \u001b[0;34m=\u001b[0m \u001b[0;34m'openai'\u001b[0m\u001b[0;34m,\u001b[0m\u001b[0;34m\u001b[0m\n",
      "\u001b[0;34m\u001b[0m    \u001b[0mmodel_type\u001b[0m\u001b[0;34m:\u001b[0m \u001b[0mstr\u001b[0m \u001b[0;34m=\u001b[0m \u001b[0;34m'text-embedding-3-small'\u001b[0m\u001b[0;34m,\u001b[0m\u001b[0;34m\u001b[0m\n",
      "\u001b[0;34m\u001b[0m    \u001b[0mvector_store_type\u001b[0m\u001b[0;34m:\u001b[0m \u001b[0mstr\u001b[0m \u001b[0;34m=\u001b[0m \u001b[0;34m'chroma'\u001b[0m\u001b[0;34m,\u001b[0m\u001b[0;34m\u001b[0m\n",
      "\u001b[0;34m\u001b[0m    \u001b[0mcollection_name\u001b[0m\u001b[0;34m:\u001b[0m \u001b[0mstr\u001b[0m \u001b[0;34m=\u001b[0m \u001b[0;34m'test'\u001b[0m\u001b[0;34m,\u001b[0m\u001b[0;34m\u001b[0m\n",
      "\u001b[0;34m\u001b[0m    \u001b[0mlogger\u001b[0m\u001b[0;34m=\u001b[0m\u001b[0;32mNone\u001b[0m\u001b[0;34m,\u001b[0m\u001b[0;34m\u001b[0m\n",
      "\u001b[0;34m\u001b[0m    \u001b[0mmodel_kwargs\u001b[0m\u001b[0;34m:\u001b[0m \u001b[0mdict\u001b[0m \u001b[0;34m=\u001b[0m \u001b[0;32mNone\u001b[0m\u001b[0;34m,\u001b[0m\u001b[0;34m\u001b[0m\n",
      "\u001b[0;34m\u001b[0m    \u001b[0mvector_store_kwargs\u001b[0m\u001b[0;34m:\u001b[0m \u001b[0mdict\u001b[0m \u001b[0;34m=\u001b[0m \u001b[0;32mNone\u001b[0m\u001b[0;34m,\u001b[0m\u001b[0;34m\u001b[0m\n",
      "\u001b[0;34m\u001b[0m\u001b[0;34m)\u001b[0m \u001b[0;34m->\u001b[0m \u001b[0;32mNone\u001b[0m\u001b[0;34m\u001b[0m\u001b[0;34m\u001b[0m\u001b[0m\n",
      "\u001b[0;31mDocstring:\u001b[0m     \n",
      "Main class for generating embeddings and managing RAG operations.\n",
      "\n",
      "This class provides comprehensive functionality for generating embeddings,\n",
      "managing vector stores, handling retrievers, and managing conversations.\n",
      "\n",
      "Args:\n",
      "    model (str): Model provider name (default: 'openai')\n",
      "    model_type (str): Model type/identifier (default: 'text-embedding-3-small')\n",
      "    vector_store_type (str): Type of vector store (default: 'chroma')\n",
      "    collection_name (str): Name of the collection (default: 'test')\n",
      "    logger: Optional logger instance\n",
      "    model_kwargs (dict): Additional arguments for model initialization\n",
      "    vector_store_kwargs (dict): Additional arguments for vector store initialization\n",
      "\n",
      "Example:\n",
      "    ```python\n",
      "    # Initialize generator\n",
      "    gen = embedding_generator(\n",
      "        model=\"openai\",\n",
      "        model_type=\"text-embedding-3-small\"\n",
      "    )\n",
      "\n",
      "    # Generate embeddings\n",
      "    gen.generate_text_embeddings(\n",
      "        text_data_path=['./data.txt'],\n",
      "        folder_save_path='./embeddings'\n",
      "    )\n",
      "\n",
      "    # Load retriever\n",
      "    retriever = gen.load_retriever('./embeddings')\n",
      "\n",
      "    # Query embeddings\n",
      "    results = gen.query_embeddings(\"What is this about?\")\n",
      "    ```\n",
      "\u001b[0;31mInit docstring:\u001b[0m Initialize the embedding generator with specified configuration.\n",
      "\u001b[0;31mFile:\u001b[0m           ~/Desktop/mb_packages/mb_rag/mb_rag/rag/embeddings.py\n",
      "\u001b[0;31mType:\u001b[0m           type\n",
      "\u001b[0;31mSubclasses:\u001b[0m     "
     ]
    }
   ],
   "source": [
    "embedding_generator?"
   ]
  },
  {
   "cell_type": "code",
   "execution_count": 3,
   "metadata": {},
   "outputs": [],
   "source": [
    "em_gen = embedding_generator(model=\"openai\",model_type=\"text-embedding-3-small\",vector_store_type=\"chroma\")"
   ]
  },
  {
   "cell_type": "code",
   "execution_count": null,
   "metadata": {},
   "outputs": [
    {
     "name": "stderr",
     "output_type": "stream",
     "text": [
      "/home/malav/.local/lib/python3.11/site-packages/tqdm/auto.py:21: TqdmWarning: IProgress not found. Please update jupyter and ipywidgets. See https://ipywidgets.readthedocs.io/en/stable/user_install.html\n",
      "  from .autonotebook import tqdm as notebook_tqdm\n",
      "2024-12-07 05:50:32.280912: E external/local_xla/xla/stream_executor/cuda/cuda_fft.cc:477] Unable to register cuFFT factory: Attempting to register factory for plugin cuFFT when one has already been registered\n",
      "WARNING: All log messages before absl::InitializeLog() is called are written to STDERR\n",
      "E0000 00:00:1733550632.296813 1618158 cuda_dnn.cc:8310] Unable to register cuDNN factory: Attempting to register factory for plugin cuDNN when one has already been registered\n",
      "E0000 00:00:1733550632.301774 1618158 cuda_blas.cc:1418] Unable to register cuBLAS factory: Attempting to register factory for plugin cuBLAS when one has already been registered\n",
      "2024-12-07 05:50:32.319535: I tensorflow/core/platform/cpu_feature_guard.cc:210] This TensorFlow binary is optimized to use available CPU instructions in performance-critical operations.\n",
      "To enable the following instructions: AVX2 FMA, in other operations, rebuild TensorFlow with the appropriate compiler flags.\n",
      "/home/malav/.local/lib/python3.11/site-packages/torch/cuda/__init__.py:128: UserWarning: CUDA initialization: CUDA unknown error - this may be due to an incorrectly set up environment, e.g. changing env variable CUDA_VISIBLE_DEVICES after program start. Setting the available devices to be zero. (Triggered internally at ../c10/cuda/CUDAFunctions.cpp:108.)\n",
      "  return torch._C._cuda_getDeviceCount() > 0\n",
      "/home/malav/.local/lib/python3.11/site-packages/transformers/tokenization_utils_base.py:1617: FutureWarning: `clean_up_tokenization_spaces` was not set. It will be set to `True` by default. This behavior will be deprecated in transformers v4.45, and will be then set to `False` by default. For more details check this issue: https://github.com/huggingface/transformers/issues/31884\n",
      "  warnings.warn(\n"
     ]
    },
    {
     "name": "stdout",
     "output_type": "stream",
     "text": [
      "Text data splitted into 1250 chunks\n"
     ]
    }
   ],
   "source": [
    "em_gen.generate_text_embeddings(text_data_path=['./examples/book_data.txt'],chunk_size=500,chunk_overlap=20,\n",
    "                                folder_save_path='./examples/book_data_embeddings',replace_existing=True)"
   ]
  },
  {
   "cell_type": "code",
   "execution_count": 5,
   "metadata": {},
   "outputs": [],
   "source": [
    "em_loading = em_gen.load_embeddings(embeddings_folder_path='./examples/book_data_embeddings')"
   ]
  },
  {
   "cell_type": "code",
   "execution_count": 6,
   "metadata": {},
   "outputs": [
    {
     "data": {
      "text/plain": [
       "<langchain_chroma.vectorstores.Chroma at 0x795d6164e310>"
      ]
     },
     "execution_count": 6,
     "metadata": {},
     "output_type": "execute_result"
    }
   ],
   "source": [
    "em_loading"
   ]
  },
  {
   "cell_type": "code",
   "execution_count": 12,
   "metadata": {},
   "outputs": [],
   "source": [
    "em_retriever = em_gen.load_retriever(embeddings_folder_path='./examples/book_data_embeddings',search_params=[{\"k\": 2,\"score_threshold\": 0.1}])"
   ]
  },
  {
   "cell_type": "code",
   "execution_count": 13,
   "metadata": {},
   "outputs": [
    {
     "name": "stderr",
     "output_type": "stream",
     "text": [
      "No relevant docs were retrieved using the relevance score threshold 0.1\n"
     ]
    }
   ],
   "source": [
    "ans = em_retriever.invoke(\"what is the Book about?\")\n",
    "# try:\n",
    "    # ans = em_retriever.invoke(\"what is the Book about?\")\n",
    "# except AttributeError:\n",
    "    # If ChatOpenAI doesn't have embed_query, use the embedding model directly\n",
    "# query_embedding = em_gen.model.embed_documents([\"what is the Book about?\"])[0]\n",
    "# ans = em_retriever.get_relevant_documents(query_embedding)"
   ]
  },
  {
   "cell_type": "code",
   "execution_count": 14,
   "metadata": {},
   "outputs": [],
   "source": [
    "for i,k in enumerate(ans):\n",
    "    print(f\"Document {i}:\\n{k.page_content}\\n\")\n",
    "    print(f\"Source: {k.metadata['source']}\\n\")"
   ]
  },
  {
   "cell_type": "code",
   "execution_count": 15,
   "metadata": {},
   "outputs": [],
   "source": [
    "## testing history aware rag chain / retriever\n",
    "# Generate RAG chain\n",
    "rag_chain = em_gen.generate_rag_chain(retriever=em_retriever)\n"
   ]
  },
  {
   "cell_type": "code",
   "execution_count": 16,
   "metadata": {},
   "outputs": [
    {
     "name": "stdout",
     "output_type": "stream",
     "text": [
      "Testing RAG chain with multiple questions:\n",
      "\n",
      "Question: What is the main theme of the book?\n"
     ]
    },
    {
     "name": "stderr",
     "output_type": "stream",
     "text": [
      "No relevant docs were retrieved using the relevance score threshold 0.1\n"
     ]
    },
    {
     "name": "stdout",
     "output_type": "stream",
     "text": [
      "Response: The main theme of the book \"Adventures of Huckleberry Finn\" is the conflict between civilization and freedom. The book explores the struggles of the protagonist, Huck, as he seeks to escape societal expectations and constraints. It also addresses issues of race and identity in pre-Civil War America.\n",
      "Saved file : ./examples/book_data_rag_chain.txt\n",
      "Response: [\"content='You : What is the main theme of the book?'\", 'content=\\'The main theme of \"Adventures of Huckleberry Finn\" is the conflict between civilization and freedom. It explores the struggles of the protagonist, Huck, as he seeks to escape societal expectations and constraints, while also addressing issues of race and identity in pre-Civil War America.\\'', \"content='You : Who are the main characters?'\", 'content=\\'The main characters in \"Adventures of Huckleberry Finn\" are Huck Finn and Tom Sawyer. Huck Finn is the protagonist, and Tom Sawyer is his friend and comrade in various adventures.\\'', \"content='You : Can you summarize the plot?'\", 'content=\\'\"Adventures of Huckleberry Finn\" follows Huck Finn, a young boy who fakes his own death to escape his abusive father. He teams up with Jim, a runaway slave, and they journey down the Mississippi River on a raft, encountering various adventures and characters. Throughout their journey, Huck grapples with his conscience and societal values, ultimately deciding to help Jim attain freedom.\\'', \"content='You : What is the setting of the story?'\", \"content='The story is set along the Mississippi River in the mid-19th century, primarily in the fictional town of St. Petersburg, Missouri. The river and its surrounding areas play a significant role in the adventures of Huck Finn and Jim.'\", \"content='You : What genre does this book belong to?'\", 'content=\\'\"Adventures of Huckleberry Finn\" by Mark Twain belongs to the genre of adventure fiction. It is also considered a classic of American literature and contains elements of satire and social criticism.\\'', HumanMessage(content='You : What is the main theme of the book?', additional_kwargs={}, response_metadata={}), SystemMessage(content='The main theme of the book \"Adventures of Huckleberry Finn\" is the conflict between civilization and freedom. The book explores the struggles of the protagonist, Huck, as he seeks to escape societal expectations and constraints. It also addresses issues of race and identity in pre-Civil War America.', additional_kwargs={}, response_metadata={})]\n",
      "\n",
      "Question: Who are the main characters?\n"
     ]
    },
    {
     "name": "stderr",
     "output_type": "stream",
     "text": [
      "No relevant docs were retrieved using the relevance score threshold 0.1\n"
     ]
    },
    {
     "name": "stdout",
     "output_type": "stream",
     "text": [
      "Response: The main characters in \"Adventures of Huckleberry Finn\" are Huck Finn and Tom Sawyer. Huck Finn is the protagonist of the story, and Tom Sawyer is his friend who accompanies him in various adventures.\n",
      "Saved file : ./examples/book_data_rag_chain.txt\n",
      "Response: [\"content='You : What is the main theme of the book?'\", 'content=\\'The main theme of \"Adventures of Huckleberry Finn\" is the conflict between civilization and freedom. It explores the struggles of the protagonist, Huck, as he seeks to escape societal expectations and constraints, while also addressing issues of race and identity in pre-Civil War America.\\'', \"content='You : Who are the main characters?'\", 'content=\\'The main characters in \"Adventures of Huckleberry Finn\" are Huck Finn and Tom Sawyer. Huck Finn is the protagonist, and Tom Sawyer is his friend and comrade in various adventures.\\'', \"content='You : Can you summarize the plot?'\", 'content=\\'\"Adventures of Huckleberry Finn\" follows Huck Finn, a young boy who fakes his own death to escape his abusive father. He teams up with Jim, a runaway slave, and they journey down the Mississippi River on a raft, encountering various adventures and characters. Throughout their journey, Huck grapples with his conscience and societal values, ultimately deciding to help Jim attain freedom.\\'', \"content='You : What is the setting of the story?'\", \"content='The story is set along the Mississippi River in the mid-19th century, primarily in the fictional town of St. Petersburg, Missouri. The river and its surrounding areas play a significant role in the adventures of Huck Finn and Jim.'\", \"content='You : What genre does this book belong to?'\", 'content=\\'\"Adventures of Huckleberry Finn\" by Mark Twain belongs to the genre of adventure fiction. It is also considered a classic of American literature and contains elements of satire and social criticism.\\'', \"content='You : What is the main theme of the book?' additional_kwargs={} response_metadata={}\", 'content=\\'The main theme of the book \"Adventures of Huckleberry Finn\" is the conflict between civilization and freedom. The book explores the struggles of the protagonist, Huck, as he seeks to escape societal expectations and constraints. It also addresses issues of race and identity in pre-Civil War America.\\' additional_kwargs={} response_metadata={}', HumanMessage(content='You : Who are the main characters?', additional_kwargs={}, response_metadata={}), SystemMessage(content='The main characters in \"Adventures of Huckleberry Finn\" are Huck Finn and Tom Sawyer. Huck Finn is the protagonist of the story, and Tom Sawyer is his friend who accompanies him in various adventures.', additional_kwargs={}, response_metadata={})]\n",
      "\n",
      "Question: Can you summarize the plot?\n"
     ]
    },
    {
     "name": "stderr",
     "output_type": "stream",
     "text": [
      "No relevant docs were retrieved using the relevance score threshold 0.1\n"
     ]
    },
    {
     "name": "stdout",
     "output_type": "stream",
     "text": [
      "Response: content='\"Adventures of Huckleberry Finn\" is about a young boy named Huck Finn who fakes his own death to escape his abusive father. He joins forces with Jim, a runaway slave, and they journey down the Mississippi River on a raft. Throughout their journey, Huck struggles with his conscience and societal values, eventually deciding to aid Jim in his quest for freedom.'\n",
      "Saved file : ./examples/book_data_rag_chain.txt\n",
      "Response: [\"content='You : What is the main theme of the book?'\", 'content=\\'The main theme of \"Adventures of Huckleberry Finn\" is the conflict between civilization and freedom. It explores the struggles of the protagonist, Huck, as he seeks to escape societal expectations and constraints, while also addressing issues of race and identity in pre-Civil War America.\\'', \"content='You : Who are the main characters?'\", 'content=\\'The main characters in \"Adventures of Huckleberry Finn\" are Huck Finn and Tom Sawyer. Huck Finn is the protagonist, and Tom Sawyer is his friend and comrade in various adventures.\\'', \"content='You : Can you summarize the plot?'\", 'content=\\'\"Adventures of Huckleberry Finn\" follows Huck Finn, a young boy who fakes his own death to escape his abusive father. He teams up with Jim, a runaway slave, and they journey down the Mississippi River on a raft, encountering various adventures and characters. Throughout their journey, Huck grapples with his conscience and societal values, ultimately deciding to help Jim attain freedom.\\'', \"content='You : What is the setting of the story?'\", \"content='The story is set along the Mississippi River in the mid-19th century, primarily in the fictional town of St. Petersburg, Missouri. The river and its surrounding areas play a significant role in the adventures of Huck Finn and Jim.'\", \"content='You : What genre does this book belong to?'\", 'content=\\'\"Adventures of Huckleberry Finn\" by Mark Twain belongs to the genre of adventure fiction. It is also considered a classic of American literature and contains elements of satire and social criticism.\\'', \"content='You : What is the main theme of the book?' additional_kwargs={} response_metadata={}\", 'content=\\'The main theme of the book \"Adventures of Huckleberry Finn\" is the conflict between civilization and freedom. The book explores the struggles of the protagonist, Huck, as he seeks to escape societal expectations and constraints. It also addresses issues of race and identity in pre-Civil War America.\\' additional_kwargs={} response_metadata={}', \"content='You : Who are the main characters?' additional_kwargs={} response_metadata={}\", 'content=\\'The main characters in \"Adventures of Huckleberry Finn\" are Huck Finn and Tom Sawyer. Huck Finn is the protagonist of the story, and Tom Sawyer is his friend who accompanies him in various adventures.\\' additional_kwargs={} response_metadata={}', HumanMessage(content='You : Can you summarize the plot?', additional_kwargs={}, response_metadata={}), SystemMessage(content='content=\\'\"Adventures of Huckleberry Finn\" is about a young boy named Huck Finn who fakes his own death to escape his abusive father. He joins forces with Jim, a runaway slave, and they journey down the Mississippi River on a raft. Throughout their journey, Huck struggles with his conscience and societal values, eventually deciding to aid Jim in his quest for freedom.\\'', additional_kwargs={}, response_metadata={})]\n",
      "\n",
      "Question: What is the setting of the story?\n"
     ]
    },
    {
     "name": "stderr",
     "output_type": "stream",
     "text": [
      "No relevant docs were retrieved using the relevance score threshold 0.1\n"
     ]
    },
    {
     "name": "stdout",
     "output_type": "stream",
     "text": [
      "Response: content='The story of \"Adventures of Huckleberry Finn\" is set along the Mississippi River, primarily in the fictional town of St. Petersburg, Missouri, during the mid-19th century. The river and its surrounding areas play a pivotal role in the adventures of Huck Finn and Jim.'\n",
      "Saved file : ./examples/book_data_rag_chain.txt\n",
      "Response: [\"content='You : What is the main theme of the book?'\", 'content=\\'The main theme of \"Adventures of Huckleberry Finn\" is the conflict between civilization and freedom. It explores the struggles of the protagonist, Huck, as he seeks to escape societal expectations and constraints, while also addressing issues of race and identity in pre-Civil War America.\\'', \"content='You : Who are the main characters?'\", 'content=\\'The main characters in \"Adventures of Huckleberry Finn\" are Huck Finn and Tom Sawyer. Huck Finn is the protagonist, and Tom Sawyer is his friend and comrade in various adventures.\\'', \"content='You : Can you summarize the plot?'\", 'content=\\'\"Adventures of Huckleberry Finn\" follows Huck Finn, a young boy who fakes his own death to escape his abusive father. He teams up with Jim, a runaway slave, and they journey down the Mississippi River on a raft, encountering various adventures and characters. Throughout their journey, Huck grapples with his conscience and societal values, ultimately deciding to help Jim attain freedom.\\'', \"content='You : What is the setting of the story?'\", \"content='The story is set along the Mississippi River in the mid-19th century, primarily in the fictional town of St. Petersburg, Missouri. The river and its surrounding areas play a significant role in the adventures of Huck Finn and Jim.'\", \"content='You : What genre does this book belong to?'\", 'content=\\'\"Adventures of Huckleberry Finn\" by Mark Twain belongs to the genre of adventure fiction. It is also considered a classic of American literature and contains elements of satire and social criticism.\\'', \"content='You : What is the main theme of the book?' additional_kwargs={} response_metadata={}\", 'content=\\'The main theme of the book \"Adventures of Huckleberry Finn\" is the conflict between civilization and freedom. The book explores the struggles of the protagonist, Huck, as he seeks to escape societal expectations and constraints. It also addresses issues of race and identity in pre-Civil War America.\\' additional_kwargs={} response_metadata={}', \"content='You : Who are the main characters?' additional_kwargs={} response_metadata={}\", 'content=\\'The main characters in \"Adventures of Huckleberry Finn\" are Huck Finn and Tom Sawyer. Huck Finn is the protagonist of the story, and Tom Sawyer is his friend who accompanies him in various adventures.\\' additional_kwargs={} response_metadata={}', \"content='You : Can you summarize the plot?' additional_kwargs={} response_metadata={}\", 'content=\\'content=\\\\\\'\"Adventures of Huckleberry Finn\" is about a young boy named Huck Finn who fakes his own death to escape his abusive father. He joins forces with Jim, a runaway slave, and they journey down the Mississippi River on a raft. Throughout their journey, Huck struggles with his conscience and societal values, eventually deciding to aid Jim in his quest for freedom.\\\\\\'\\' additional_kwargs={} response_metadata={}', HumanMessage(content='You : What is the setting of the story?', additional_kwargs={}, response_metadata={}), SystemMessage(content='content=\\'The story of \"Adventures of Huckleberry Finn\" is set along the Mississippi River, primarily in the fictional town of St. Petersburg, Missouri, during the mid-19th century. The river and its surrounding areas play a pivotal role in the adventures of Huck Finn and Jim.\\'', additional_kwargs={}, response_metadata={})]\n",
      "\n",
      "Question: What genre does this book belong to?\n"
     ]
    },
    {
     "name": "stderr",
     "output_type": "stream",
     "text": [
      "No relevant docs were retrieved using the relevance score threshold 0.1\n"
     ]
    },
    {
     "name": "stdout",
     "output_type": "stream",
     "text": [
      "Response: content='\"Adventures of Huckleberry Finn\" by Mark Twain is an adventure fiction. It is also regarded as a classic of American literature with elements of satire and social criticism.'\n",
      "Saved file : ./examples/book_data_rag_chain.txt\n",
      "Response: [\"content='You : What is the main theme of the book?'\", 'content=\\'The main theme of \"Adventures of Huckleberry Finn\" is the conflict between civilization and freedom. It explores the struggles of the protagonist, Huck, as he seeks to escape societal expectations and constraints, while also addressing issues of race and identity in pre-Civil War America.\\'', \"content='You : Who are the main characters?'\", 'content=\\'The main characters in \"Adventures of Huckleberry Finn\" are Huck Finn and Tom Sawyer. Huck Finn is the protagonist, and Tom Sawyer is his friend and comrade in various adventures.\\'', \"content='You : Can you summarize the plot?'\", 'content=\\'\"Adventures of Huckleberry Finn\" follows Huck Finn, a young boy who fakes his own death to escape his abusive father. He teams up with Jim, a runaway slave, and they journey down the Mississippi River on a raft, encountering various adventures and characters. Throughout their journey, Huck grapples with his conscience and societal values, ultimately deciding to help Jim attain freedom.\\'', \"content='You : What is the setting of the story?'\", \"content='The story is set along the Mississippi River in the mid-19th century, primarily in the fictional town of St. Petersburg, Missouri. The river and its surrounding areas play a significant role in the adventures of Huck Finn and Jim.'\", \"content='You : What genre does this book belong to?'\", 'content=\\'\"Adventures of Huckleberry Finn\" by Mark Twain belongs to the genre of adventure fiction. It is also considered a classic of American literature and contains elements of satire and social criticism.\\'', \"content='You : What is the main theme of the book?' additional_kwargs={} response_metadata={}\", 'content=\\'The main theme of the book \"Adventures of Huckleberry Finn\" is the conflict between civilization and freedom. The book explores the struggles of the protagonist, Huck, as he seeks to escape societal expectations and constraints. It also addresses issues of race and identity in pre-Civil War America.\\' additional_kwargs={} response_metadata={}', \"content='You : Who are the main characters?' additional_kwargs={} response_metadata={}\", 'content=\\'The main characters in \"Adventures of Huckleberry Finn\" are Huck Finn and Tom Sawyer. Huck Finn is the protagonist of the story, and Tom Sawyer is his friend who accompanies him in various adventures.\\' additional_kwargs={} response_metadata={}', \"content='You : Can you summarize the plot?' additional_kwargs={} response_metadata={}\", 'content=\\'content=\\\\\\'\"Adventures of Huckleberry Finn\" is about a young boy named Huck Finn who fakes his own death to escape his abusive father. He joins forces with Jim, a runaway slave, and they journey down the Mississippi River on a raft. Throughout their journey, Huck struggles with his conscience and societal values, eventually deciding to aid Jim in his quest for freedom.\\\\\\'\\' additional_kwargs={} response_metadata={}', \"content='You : What is the setting of the story?' additional_kwargs={} response_metadata={}\", 'content=\\'content=\\\\\\'The story of \"Adventures of Huckleberry Finn\" is set along the Mississippi River, primarily in the fictional town of St. Petersburg, Missouri, during the mid-19th century. The river and its surrounding areas play a pivotal role in the adventures of Huck Finn and Jim.\\\\\\'\\' additional_kwargs={} response_metadata={}', HumanMessage(content='You : What genre does this book belong to?', additional_kwargs={}, response_metadata={}), SystemMessage(content='content=\\'\"Adventures of Huckleberry Finn\" by Mark Twain is an adventure fiction. It is also regarded as a classic of American literature with elements of satire and social criticism.\\'', additional_kwargs={}, response_metadata={})]\n",
      "\n"
     ]
    }
   ],
   "source": [
    "# Test the RAG chain\n",
    "test_questions = [\n",
    "    \"What is the main theme of the book?\",\n",
    "    \"Who are the main characters?\",\n",
    "    \"Can you summarize the plot?\",\n",
    "    \"What is the setting of the story?\",\n",
    "    \"What genre does this book belong to?\"\n",
    "]\n",
    "\n",
    "print(\"Testing RAG chain with multiple questions:\\n\")\n",
    "for question in test_questions:\n",
    "    print(f\"Question: {question}\")\n",
    "    response = em_gen.conversation_chain(question, rag_chain,file='./examples/book_data_rag_chain.txt')\n",
    "    print(f\"Response: {response}\\n\")"
   ]
  },
  {
   "cell_type": "code",
   "execution_count": 17,
   "metadata": {},
   "outputs": [
    {
     "name": "stdout",
     "output_type": "stream",
     "text": [
      "Testing query_embeddings function:\n",
      "\n"
     ]
    },
    {
     "name": "stderr",
     "output_type": "stream",
     "text": [
      "No relevant docs were retrieved using the relevance score threshold 0.1\n",
      "/home/malav/Desktop/mb_packages/mb_rag/mb_rag/rag/embeddings.py:546: LangChainDeprecationWarning: The method `BaseRetriever.get_relevant_documents` was deprecated in langchain-core 0.1.46 and will be removed in 1.0. Use :meth:`~invoke` instead.\n",
      "  return retriever.get_relevant_documents(query)\n"
     ]
    },
    {
     "name": "stdout",
     "output_type": "stream",
     "text": [
      "Query: What are the key themes explored in the book?\n",
      "Result: []\n",
      "\n",
      "Testing get_relevant_documents function:\n",
      "\n"
     ]
    },
    {
     "name": "stderr",
     "output_type": "stream",
     "text": [
      "No relevant docs were retrieved using the relevance score threshold 0.1\n"
     ]
    },
    {
     "name": "stdout",
     "output_type": "stream",
     "text": [
      "Query: Describe the main conflict in the story.\n",
      "Relevant documents:\n"
     ]
    }
   ],
   "source": [
    "# Test query_embeddings function\n",
    "print(\"Testing query_embeddings function:\\n\")\n",
    "query = \"What are the key themes explored in the book?\"\n",
    "result = em_gen.query_embeddings(query)\n",
    "print(f\"Query: {query}\")\n",
    "print(f\"Result: {result}\\n\")\n",
    "\n",
    "# Test get_relevant_documents function\n",
    "print(\"Testing get_relevant_documents function:\\n\")\n",
    "query = \"Describe the main conflict in the story.\"\n",
    "docs = em_gen.get_relevant_documents(query)\n",
    "print(f\"Query: {query}\")\n",
    "print(\"Relevant documents:\")\n",
    "for i, doc in enumerate(docs):\n",
    "    print(f\"Document {i+1}:\")\n",
    "    print(f\"Content: {doc.page_content[:100]}...\")  # Print first 100 characters\n",
    "    print(f\"Source: {doc.metadata['source']}\\n\")\n"
   ]
  },
  {
   "cell_type": "code",
   "execution_count": 18,
   "metadata": {},
   "outputs": [
    {
     "data": {
      "text/plain": [
       "[\"content='You : What is the main theme of the book?'\",\n",
       " 'content=\\'The main theme of \"Adventures of Huckleberry Finn\" is the conflict between civilization and freedom. It explores the struggles of the protagonist, Huck, as he seeks to escape societal expectations and constraints, while also addressing issues of race and identity in pre-Civil War America.\\'',\n",
       " \"content='You : Who are the main characters?'\",\n",
       " 'content=\\'The main characters in \"Adventures of Huckleberry Finn\" are Huck Finn and Tom Sawyer. Huck Finn is the protagonist, and Tom Sawyer is his friend and comrade in various adventures.\\'',\n",
       " \"content='You : Can you summarize the plot?'\",\n",
       " 'content=\\'\"Adventures of Huckleberry Finn\" follows Huck Finn, a young boy who fakes his own death to escape his abusive father. He teams up with Jim, a runaway slave, and they journey down the Mississippi River on a raft, encountering various adventures and characters. Throughout their journey, Huck grapples with his conscience and societal values, ultimately deciding to help Jim attain freedom.\\'',\n",
       " \"content='You : What is the setting of the story?'\",\n",
       " \"content='The story is set along the Mississippi River in the mid-19th century, primarily in the fictional town of St. Petersburg, Missouri. The river and its surrounding areas play a significant role in the adventures of Huck Finn and Jim.'\",\n",
       " \"content='You : What genre does this book belong to?'\",\n",
       " 'content=\\'\"Adventures of Huckleberry Finn\" by Mark Twain belongs to the genre of adventure fiction. It is also considered a classic of American literature and contains elements of satire and social criticism.\\'',\n",
       " \"content='You : What is the main theme of the book?' additional_kwargs={} response_metadata={}\",\n",
       " 'content=\\'The main theme of the book \"Adventures of Huckleberry Finn\" is the conflict between civilization and freedom. The book explores the struggles of the protagonist, Huck, as he seeks to escape societal expectations and constraints. It also addresses issues of race and identity in pre-Civil War America.\\' additional_kwargs={} response_metadata={}',\n",
       " \"content='You : Who are the main characters?' additional_kwargs={} response_metadata={}\",\n",
       " 'content=\\'The main characters in \"Adventures of Huckleberry Finn\" are Huck Finn and Tom Sawyer. Huck Finn is the protagonist of the story, and Tom Sawyer is his friend who accompanies him in various adventures.\\' additional_kwargs={} response_metadata={}',\n",
       " \"content='You : Can you summarize the plot?' additional_kwargs={} response_metadata={}\",\n",
       " 'content=\\'content=\\\\\\'\"Adventures of Huckleberry Finn\" is about a young boy named Huck Finn who fakes his own death to escape his abusive father. He joins forces with Jim, a runaway slave, and they journey down the Mississippi River on a raft. Throughout their journey, Huck struggles with his conscience and societal values, eventually deciding to aid Jim in his quest for freedom.\\\\\\'\\' additional_kwargs={} response_metadata={}',\n",
       " \"content='You : What is the setting of the story?' additional_kwargs={} response_metadata={}\",\n",
       " 'content=\\'content=\\\\\\'The story of \"Adventures of Huckleberry Finn\" is set along the Mississippi River, primarily in the fictional town of St. Petersburg, Missouri, during the mid-19th century. The river and its surrounding areas play a pivotal role in the adventures of Huck Finn and Jim.\\\\\\'\\' additional_kwargs={} response_metadata={}',\n",
       " \"content='You : What genre does this book belong to?' additional_kwargs={} response_metadata={}\",\n",
       " 'content=\\'content=\\\\\\'\"Adventures of Huckleberry Finn\" by Mark Twain is an adventure fiction. It is also regarded as a classic of American literature with elements of satire and social criticism.\\\\\\'\\' additional_kwargs={} response_metadata={}']"
      ]
     },
     "execution_count": 18,
     "metadata": {},
     "output_type": "execute_result"
    }
   ],
   "source": [
    "em_gen.load_conversation('./examples/book_data_rag_chain.txt',list_type=True)"
   ]
  },
  {
   "cell_type": "code",
   "execution_count": 19,
   "metadata": {},
   "outputs": [
    {
     "name": "stderr",
     "output_type": "stream",
     "text": [
      "[2024-12-07 05:57:35 - langchain_text_splitters.base:122 - WARNING] Created a chunk of size 11660, which is longer than the specified 1000\n",
      "[2024-12-07 05:57:35 - langchain_text_splitters.base:122 - WARNING] Created a chunk of size 1495, which is longer than the specified 1000\n",
      "[2024-12-07 05:57:35 - chromadb.db.impl.sqlite:111 - WARNING] ⚠️ It looks like you upgraded from a version below 0.6 and could benefit from vacuuming your database. Run chromadb utils vacuum --help for more information.\n"
     ]
    },
    {
     "name": "stdout",
     "output_type": "stream",
     "text": [
      "\n",
      "--- Document Chunks Information ---\n",
      "Number of document chunks: 16\n",
      "Sample chunk:\n",
      "You signed in with another tab or window. Reload to refresh your session.You signed out in another tab or window. Reload to refresh your session.You switched accounts on another tab or window. Reload to refresh your session.Dismiss alert\n",
      "\n",
      "{{ message }}\n",
      "\n",
      "![@bigmb](https://avatars.githubusercontent.com/u/14040051?s=64&v=4)**bigmb**[Follow](/login?return_to=https%3A%2F%2Fgithub.com%2Fbigmb)\n",
      "\n",
      "More\n",
      "\n",
      "- [Overview](/bigmb)\n",
      "- [Repositories](/bigmb?tab=repositories)\n",
      "- [Projects](/bigmb?tab=projects)\n",
      "- [Packages](/bigmb?tab=packages)\n",
      "- [Stars](/bigmb?tab=stars)\n",
      "\n",
      "![@bigmb](https://avatars.githubusercontent.com/u/14040051?s=64&v=4)\n",
      "**bigmb**\n",
      "[Follow](/login?return_to=https%3A%2F%2Fgithub.com%2Fbigmb)\n",
      "\n",
      "[![View bigmb's full-sized avatar](https://avatars.githubusercontent.com/u/14040051?v=4)](https://avatars.githubusercontent.com/u/14040051?v=4)\n",
      "\n",
      "![:octocat:](https://github.githubassets.com/images/icons/emoji/octocat.png)\n",
      "\n",
      "Focusing\n",
      "\n",
      "# Malav Bateriwala    bigmb\n",
      "\n",
      "Retriever saved at ./examples/firecrawl_embeddings\n"
     ]
    },
    {
     "data": {
      "text/plain": [
       "<langchain_chroma.vectorstores.Chroma at 0x795d6174ee50>"
      ]
     },
     "execution_count": 19,
     "metadata": {},
     "output_type": "execute_result"
    }
   ],
   "source": [
    "## testing firecrawl\n",
    "em_gen.firecrawl_web(website=\"https://www.github.com/bigmb\",mode=\"scrape\",file_to_save='./examples/firecrawl_embeddings')"
   ]
  },
  {
   "cell_type": "code",
   "execution_count": null,
   "metadata": {},
   "outputs": [],
   "source": []
  }
 ],
 "metadata": {
  "kernelspec": {
   "display_name": "Python 3",
   "language": "python",
   "name": "python3"
  },
  "language_info": {
   "codemirror_mode": {
    "name": "ipython",
    "version": 3
   },
   "file_extension": ".py",
   "mimetype": "text/x-python",
   "name": "python",
   "nbconvert_exporter": "python",
   "pygments_lexer": "ipython3",
   "version": "3.11.6"
  }
 },
 "nbformat": 4,
 "nbformat_minor": 2
}
