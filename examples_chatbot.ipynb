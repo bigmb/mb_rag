{
 "cells": [
  {
   "cell_type": "code",
   "execution_count": 1,
   "metadata": {},
   "outputs": [],
   "source": [
    "from mb_rag.chatbot.basic import ModelFactory"
   ]
  },
  {
   "cell_type": "code",
   "execution_count": 2,
   "metadata": {},
   "outputs": [
    {
     "name": "stdout",
     "output_type": "stream",
     "text": [
      "\u001b[0;31mInit signature:\u001b[0m\n",
      "\u001b[0mModelFactory\u001b[0m\u001b[0;34m(\u001b[0m\u001b[0;34m\u001b[0m\n",
      "\u001b[0;34m\u001b[0m    \u001b[0mmodel_type\u001b[0m\u001b[0;34m:\u001b[0m \u001b[0mstr\u001b[0m \u001b[0;34m=\u001b[0m \u001b[0;34m'openai'\u001b[0m\u001b[0;34m,\u001b[0m\u001b[0;34m\u001b[0m\n",
      "\u001b[0;34m\u001b[0m    \u001b[0mmodel_name\u001b[0m\u001b[0;34m:\u001b[0m \u001b[0mstr\u001b[0m \u001b[0;34m=\u001b[0m \u001b[0;34m'gpt-4o'\u001b[0m\u001b[0;34m,\u001b[0m\u001b[0;34m\u001b[0m\n",
      "\u001b[0;34m\u001b[0m    \u001b[0;34m**\u001b[0m\u001b[0mkwargs\u001b[0m\u001b[0;34m,\u001b[0m\u001b[0;34m\u001b[0m\n",
      "\u001b[0;34m\u001b[0m\u001b[0;34m)\u001b[0m \u001b[0;34m->\u001b[0m \u001b[0mAny\u001b[0m\u001b[0;34m\u001b[0m\u001b[0;34m\u001b[0m\u001b[0m\n",
      "\u001b[0;31mDocstring:\u001b[0m      Factory class for creating different types of chatbot models\n",
      "\u001b[0;31mInit docstring:\u001b[0m\n",
      "Factory method to create any type of model\n",
      "Args:\n",
      "    model_type (str): Type of model to create\n",
      "    model_name (str): Name of the model\n",
      "    **kwargs: Additional arguments\n",
      "Returns:\n",
      "    Any: Chatbot model\n",
      "\u001b[0;31mFile:\u001b[0m           ~/Desktop/mb_packages/mb_rag/mb_rag/chatbot/basic.py\n",
      "\u001b[0;31mType:\u001b[0m           type\n",
      "\u001b[0;31mSubclasses:\u001b[0m     "
     ]
    }
   ],
   "source": [
    "ModelFactory?"
   ]
  },
  {
   "cell_type": "code",
   "execution_count": 3,
   "metadata": {},
   "outputs": [],
   "source": [
    "model1 = ModelFactory(model_name='gpt-4o', model_type='openai') ## if just want to get the model"
   ]
  },
  {
   "cell_type": "code",
   "execution_count": 4,
   "metadata": {},
   "outputs": [
    {
     "name": "stdout",
     "output_type": "stream",
     "text": [
      "\u001b[0;31mSignature:\u001b[0m\n",
      "\u001b[0mmodel1\u001b[0m\u001b[0;34m.\u001b[0m\u001b[0minvoke_query\u001b[0m\u001b[0;34m(\u001b[0m\u001b[0;34m\u001b[0m\n",
      "\u001b[0;34m\u001b[0m    \u001b[0mquery\u001b[0m\u001b[0;34m:\u001b[0m \u001b[0mstr\u001b[0m\u001b[0;34m,\u001b[0m\u001b[0;34m\u001b[0m\n",
      "\u001b[0;34m\u001b[0m    \u001b[0mget_content_only\u001b[0m\u001b[0;34m:\u001b[0m \u001b[0mbool\u001b[0m \u001b[0;34m=\u001b[0m \u001b[0;32mTrue\u001b[0m\u001b[0;34m,\u001b[0m\u001b[0;34m\u001b[0m\n",
      "\u001b[0;34m\u001b[0m    \u001b[0mimages\u001b[0m\u001b[0;34m:\u001b[0m \u001b[0mlist\u001b[0m \u001b[0;34m=\u001b[0m \u001b[0;32mNone\u001b[0m\u001b[0;34m,\u001b[0m\u001b[0;34m\u001b[0m\n",
      "\u001b[0;34m\u001b[0m    \u001b[0mpydantic_model\u001b[0m\u001b[0;34m=\u001b[0m\u001b[0;32mNone\u001b[0m\u001b[0;34m,\u001b[0m\u001b[0;34m\u001b[0m\n",
      "\u001b[0;34m\u001b[0m\u001b[0;34m)\u001b[0m \u001b[0;34m->\u001b[0m \u001b[0mstr\u001b[0m\u001b[0;34m\u001b[0m\u001b[0;34m\u001b[0m\u001b[0m\n",
      "\u001b[0;31mDocstring:\u001b[0m\n",
      "Invoke the model\n",
      "Args:\n",
      "    query (str): Query to send to the model\n",
      "    get_content_only (bool): Whether to return only content\n",
      "    images (list): List of images to send to the model\n",
      "    pydantic_model: Pydantic model for structured output\n",
      "Returns:\n",
      "    str: Response from the model\n",
      "\u001b[0;31mFile:\u001b[0m      ~/Desktop/mb_packages/mb_rag/mb_rag/chatbot/basic.py\n",
      "\u001b[0;31mType:\u001b[0m      method"
     ]
    }
   ],
   "source": [
    "model1.invoke_query?"
   ]
  },
  {
   "cell_type": "code",
   "execution_count": 5,
   "metadata": {},
   "outputs": [
    {
     "data": {
      "text/plain": [
       "\"Hello! I'm just a program, so I don't have feelings, but I'm here and ready to help you. How can I assist you today?\""
      ]
     },
     "execution_count": 5,
     "metadata": {},
     "output_type": "execute_result"
    }
   ],
   "source": [
    "model1.invoke_query('Hello, how are you?') ## if just want to get the model"
   ]
  },
  {
   "cell_type": "code",
   "execution_count": 6,
   "metadata": {},
   "outputs": [
    {
     "data": {
      "text/plain": [
       "'The first image shows a plate of small, round, fried patties. They appear to be crispy and golden brown, possibly some type of fritter or croquette.\\n\\nThe second image shows a bowl of scrambled eggs. The eggs are mixed with some additional ingredients, possibly cheese and bits of vegetables or meat.'"
      ]
     },
     "execution_count": 6,
     "metadata": {},
     "output_type": "execute_result"
    }
   ],
   "source": [
    "model1.invoke_query('What is there in the images?', images=['/home/malav/Downloads/1.jpeg', '/home/malav/Downloads/2.jpeg'])"
   ]
  },
  {
   "cell_type": "code",
   "execution_count": null,
   "metadata": {},
   "outputs": [],
   "source": []
  },
  {
   "cell_type": "code",
   "execution_count": null,
   "metadata": {},
   "outputs": [],
   "source": []
  },
  {
   "cell_type": "code",
   "execution_count": null,
   "metadata": {},
   "outputs": [],
   "source": [
    "## if want to get the model and chatbot together"
   ]
  },
  {
   "cell_type": "code",
   "execution_count": 1,
   "metadata": {},
   "outputs": [],
   "source": [
    "from mb_rag.chatbot.basic import ConversationModel, ModelFactory"
   ]
  },
  {
   "cell_type": "code",
   "execution_count": 2,
   "metadata": {},
   "outputs": [],
   "source": [
    "model_con = ConversationModel(model_name='gpt-4o', model_type='openai')"
   ]
  },
  {
   "cell_type": "code",
   "execution_count": 3,
   "metadata": {},
   "outputs": [
    {
     "name": "stdout",
     "output_type": "stream",
     "text": [
      "\u001b[0;31mInit signature:\u001b[0m\n",
      "\u001b[0mConversationModel\u001b[0m\u001b[0;34m(\u001b[0m\u001b[0;34m\u001b[0m\n",
      "\u001b[0;34m\u001b[0m    \u001b[0mmodel_name\u001b[0m\u001b[0;34m:\u001b[0m \u001b[0mstr\u001b[0m \u001b[0;34m=\u001b[0m \u001b[0;34m'gpt-4o'\u001b[0m\u001b[0;34m,\u001b[0m\u001b[0;34m\u001b[0m\n",
      "\u001b[0;34m\u001b[0m    \u001b[0mmodel_type\u001b[0m\u001b[0;34m:\u001b[0m \u001b[0mstr\u001b[0m \u001b[0;34m=\u001b[0m \u001b[0;34m'openai'\u001b[0m\u001b[0;34m,\u001b[0m\u001b[0;34m\u001b[0m\n",
      "\u001b[0;34m\u001b[0m    \u001b[0;34m**\u001b[0m\u001b[0mkwargs\u001b[0m\u001b[0;34m,\u001b[0m\u001b[0;34m\u001b[0m\n",
      "\u001b[0;34m\u001b[0m\u001b[0;34m)\u001b[0m \u001b[0;34m->\u001b[0m \u001b[0;32mNone\u001b[0m\u001b[0;34m\u001b[0m\u001b[0;34m\u001b[0m\u001b[0m\n",
      "\u001b[0;31mDocstring:\u001b[0m     \n",
      "A class to handle conversation with AI models\n",
      "\n",
      "Attributes:\n",
      "    chatbot: The AI model for conversation\n",
      "    message_list (List): List of conversation messages\n",
      "    file_path (str): Path to save/load conversations. Can be local or S3\n",
      "\u001b[0;31mInit docstring:\u001b[0m Initialize conversation model\n",
      "\u001b[0;31mFile:\u001b[0m           ~/Desktop/mb_packages/mb_rag/mb_rag/chatbot/basic.py\n",
      "\u001b[0;31mType:\u001b[0m           type\n",
      "\u001b[0;31mSubclasses:\u001b[0m     "
     ]
    }
   ],
   "source": [
    "ConversationModel?"
   ]
  },
  {
   "cell_type": "code",
   "execution_count": 4,
   "metadata": {},
   "outputs": [
    {
     "name": "stdout",
     "output_type": "stream",
     "text": [
      "\u001b[0;31mSignature:\u001b[0m\n",
      "\u001b[0mmodel_con\u001b[0m\u001b[0;34m.\u001b[0m\u001b[0minitialize_conversation\u001b[0m\u001b[0;34m(\u001b[0m\u001b[0;34m\u001b[0m\n",
      "\u001b[0;34m\u001b[0m    \u001b[0mquestion\u001b[0m\u001b[0;34m:\u001b[0m \u001b[0mOptional\u001b[0m\u001b[0;34m[\u001b[0m\u001b[0mstr\u001b[0m\u001b[0;34m]\u001b[0m\u001b[0;34m,\u001b[0m\u001b[0;34m\u001b[0m\n",
      "\u001b[0;34m\u001b[0m    \u001b[0mcontext\u001b[0m\u001b[0;34m:\u001b[0m \u001b[0mOptional\u001b[0m\u001b[0;34m[\u001b[0m\u001b[0mstr\u001b[0m\u001b[0;34m]\u001b[0m \u001b[0;34m=\u001b[0m \u001b[0;32mNone\u001b[0m\u001b[0;34m,\u001b[0m\u001b[0;34m\u001b[0m\n",
      "\u001b[0;34m\u001b[0m    \u001b[0mfile_path\u001b[0m\u001b[0;34m:\u001b[0m \u001b[0mOptional\u001b[0m\u001b[0;34m[\u001b[0m\u001b[0mstr\u001b[0m\u001b[0;34m]\u001b[0m \u001b[0;34m=\u001b[0m \u001b[0;32mNone\u001b[0m\u001b[0;34m,\u001b[0m\u001b[0;34m\u001b[0m\n",
      "\u001b[0;34m\u001b[0m\u001b[0;34m)\u001b[0m \u001b[0;34m->\u001b[0m \u001b[0;32mNone\u001b[0m\u001b[0;34m\u001b[0m\u001b[0;34m\u001b[0m\u001b[0m\n",
      "\u001b[0;31mDocstring:\u001b[0m Initialize conversation state\n",
      "\u001b[0;31mFile:\u001b[0m      ~/Desktop/mb_packages/mb_rag/mb_rag/chatbot/basic.py\n",
      "\u001b[0;31mType:\u001b[0m      method"
     ]
    }
   ],
   "source": [
    "model_con.initialize_conversation?"
   ]
  },
  {
   "cell_type": "code",
   "execution_count": 5,
   "metadata": {},
   "outputs": [
    {
     "name": "stdout",
     "output_type": "stream",
     "text": [
      "Hello! I'm just a program, so I don't have feelings, but I'm here and ready to help you. How can I assist you today?\n"
     ]
    }
   ],
   "source": [
    "model_con.initialize_conversation(question='Hello, how are you?',context='Reply to the question')"
   ]
  },
  {
   "cell_type": "code",
   "execution_count": 6,
   "metadata": {},
   "outputs": [
    {
     "data": {
      "text/plain": [
       "'Artificial Intelligence (AI) refers to the simulation of human intelligence processes by machines, especially computer systems. These processes include learning (the acquisition of information and rules for using the information), reasoning (using rules to reach approximate or definite conclusions), and self-correction. AI can be classified into two main types:\\n\\n1. **Narrow AI (Weak AI):** This type of AI is designed to perform a narrow task (e.g., facial recognition, internet searches, or self-driving car technologies). It operates under a limited set of constraints and is not conscious or self-aware.\\n\\n2. **General AI (Strong AI or AGI):** This type of AI would have the ability to understand, learn, and apply intelligence to solve any problem, much like a human being. AGI remains theoretical and has not yet been achieved.\\n\\nAI technologies include machine learning (ML), natural language processing (NLP), robotics, and computer vision, among others. AI applications are widespread and can be found in various industries, including healthcare, finance, education, and entertainment.'"
      ]
     },
     "execution_count": 6,
     "metadata": {},
     "output_type": "execute_result"
    }
   ],
   "source": [
    "model_con.add_message('I am fine, what is AI?')"
   ]
  },
  {
   "cell_type": "code",
   "execution_count": 7,
   "metadata": {},
   "outputs": [
    {
     "name": "stdout",
     "output_type": "stream",
     "text": [
      "Conversation saved to file: ./examples/new_test.txt\n"
     ]
    },
    {
     "data": {
      "text/plain": [
       "True"
      ]
     },
     "execution_count": 7,
     "metadata": {},
     "output_type": "execute_result"
    }
   ],
   "source": [
    "model_con.save_conversation('./examples/new_test.txt')"
   ]
  },
  {
   "cell_type": "code",
   "execution_count": 11,
   "metadata": {},
   "outputs": [
    {
     "data": {
      "text/plain": [
       "[SystemMessage(content='Reply to the question'),\n",
       " HumanMessage(content='Hello, how are you?'),\n",
       " AIMessage(content=\"Hello! I'm just a program, so I don't have feelings, but I'm here and ready to help you. How can I assist you today?\"),\n",
       " HumanMessage(content='I am fine, what is AI?'),\n",
       " AIMessage(content='Artificial Intelligence (AI) refers to the simulation of human intelligence processes by machines, especially computer systems. These processes include learning (the acquisition of information and rules for using the information), reasoning (using rules to reach approximate or definite conclusions), and self-correction. AI can be classified into two main types:\\n\\n1. **Narrow AI (Weak AI):** This type of AI is designed to perform a narrow task (e.g., facial recognition, internet searches, or self-driving car technologies). It operates under a limited set of constraints and is not conscious or self-aware.\\n\\n2. **General AI (Strong AI or AGI):** This type of AI would have the ability to understand, learn, and apply intelligence to solve any problem, much like a human being. AGI remains theoretical and has not yet been achieved.\\n\\nAI technologies include machine learning (ML), natural language processing (NLP), robotics, and computer vision, among others. AI applications are widespread and can be found in various industries, including healthcare, finance, education, and entertainment.')]"
      ]
     },
     "execution_count": 11,
     "metadata": {},
     "output_type": "execute_result"
    }
   ],
   "source": [
    "model_con.message_list"
   ]
  },
  {
   "cell_type": "code",
   "execution_count": 9,
   "metadata": {},
   "outputs": [
    {
     "data": {
      "text/plain": [
       "['Reply to the question',\n",
       " 'Hello, how are you?',\n",
       " \"Hello! I'm just a program, so I don't have feelings, but I'm here and ready to help you. How can I assist you today?\",\n",
       " 'I am fine, what is AI?',\n",
       " 'Artificial Intelligence (AI) refers to the simulation of human intelligence processes by machines, especially computer systems. These processes include learning (the acquisition of information and rules for using the information), reasoning (using rules to reach approximate or definite conclusions), and self-correction. AI can be classified into two main types:\\n\\n1. **Narrow AI (Weak AI):** This type of AI is designed to perform a narrow task (e.g., facial recognition, internet searches, or self-driving car technologies). It operates under a limited set of constraints and is not conscious or self-aware.\\n\\n2. **General AI (Strong AI or AGI):** This type of AI would have the ability to understand, learn, and apply intelligence to solve any problem, much like a human being. AGI remains theoretical and has not yet been achieved.\\n\\nAI technologies include machine learning (ML), natural language processing (NLP), robotics, and computer vision, among others. AI applications are widespread and can be found in various industries, including healthcare, finance, education, and entertainment.']"
      ]
     },
     "execution_count": 9,
     "metadata": {},
     "output_type": "execute_result"
    }
   ],
   "source": [
    "model_con.all_messages_content"
   ]
  },
  {
   "cell_type": "code",
   "execution_count": null,
   "metadata": {},
   "outputs": [],
   "source": []
  },
  {
   "cell_type": "code",
   "execution_count": null,
   "metadata": {},
   "outputs": [],
   "source": []
  },
  {
   "cell_type": "code",
   "execution_count": null,
   "metadata": {},
   "outputs": [],
   "source": []
  },
  {
   "cell_type": "code",
   "execution_count": null,
   "metadata": {},
   "outputs": [],
   "source": []
  },
  {
   "cell_type": "code",
   "execution_count": null,
   "metadata": {},
   "outputs": [],
   "source": []
  },
  {
   "cell_type": "code",
   "execution_count": 14,
   "metadata": {},
   "outputs": [],
   "source": [
    "## testing claude and streaming"
   ]
  },
  {
   "cell_type": "code",
   "execution_count": 15,
   "metadata": {},
   "outputs": [],
   "source": [
    "from langchain.callbacks.streaming_stdout import StreamingStdOutCallbackHandler\n",
    "from IPython.display import display, HTML\n",
    "\n",
    "class IPythonStreamHandler(StreamingStdOutCallbackHandler):\n",
    "    def __init__(self):\n",
    "        self.output = \"\"\n",
    "        \n",
    "    def on_llm_new_token(self, token: str, **kwargs) -> None:\n",
    "        self.output += token\n",
    "        display(HTML(self.output), clear=True)\n",
    "stream_handler = IPythonStreamHandler()\n"
   ]
  },
  {
   "cell_type": "code",
   "execution_count": 16,
   "metadata": {},
   "outputs": [
    {
     "data": {
      "text/html": [
       "CursorAI is an artificial intelligence-powered coding assistant and development tool. It's designed to help programmers and developers write code more efficiently and effectively. Here are some key features and aspects of CursorAI:\n",
       "\n",
       "1. Code completion: It can suggest and complete code as you type, similar to other AI coding assistants.\n",
       "\n",
       "2. Natural language processing: You can describe what you want to do in plain English, and CursorAI will attempt to generate the appropriate code.\n",
       "\n",
       "3. Code explanation: It can provide explanations for existing code, helping developers understand unfamiliar codebases.\n",
       "\n",
       "4. Debugging assistance: CursorAI can help identify and fix bugs in your code.\n",
       "\n",
       "5. Integration with popular IDEs: It can be integrated into various Integrated Development Environments for seamless use.\n",
       "\n",
       "6. Multi-language support: It supports multiple programming languages and frameworks.\n",
       "\n",
       "7. Customization: CursorAI can learn from your coding style and preferences to provide more personalized assistance over time.\n",
       "\n",
       "8. Chat interface: It includes a chat-like interface for asking questions and getting coding help.\n",
       "\n",
       "CursorAI aims to boost developer productivity by automating routine tasks, providing intelligent suggestions, and offering on-demand coding assistance. It's part of a growing trend of AI-powered tools designed to augment human capabilities in software development."
      ],
      "text/plain": [
       "<IPython.core.display.HTML object>"
      ]
     },
     "metadata": {},
     "output_type": "display_data"
    },
    {
     "name": "stdout",
     "output_type": "stream",
     "text": [
      "CursorAI is an artificial intelligence-powered coding assistant and development tool. It's designed to help programmers and developers write code more efficiently and effectively. Here are some key features and aspects of CursorAI:\n",
      "\n",
      "1. Code completion: It can suggest and complete code as you type, similar to other AI coding assistants.\n",
      "\n",
      "2. Natural language processing: You can describe what you want to do in plain English, and CursorAI will attempt to generate the appropriate code.\n",
      "\n",
      "3. Code explanation: It can provide explanations for existing code, helping developers understand unfamiliar codebases.\n",
      "\n",
      "4. Debugging assistance: CursorAI can help identify and fix bugs in your code.\n",
      "\n",
      "5. Integration with popular IDEs: It can be integrated into various Integrated Development Environments for seamless use.\n",
      "\n",
      "6. Multi-language support: It supports multiple programming languages and frameworks.\n",
      "\n",
      "7. Customization: CursorAI can learn from your coding style and preferences to provide more personalized assistance over time.\n",
      "\n",
      "8. Chat interface: It includes a chat-like interface for asking questions and getting coding help.\n",
      "\n",
      "CursorAI aims to boost developer productivity by automating routine tasks, providing intelligent suggestions, and offering on-demand coding assistance. It's part of a growing trend of AI-powered tools designed to augment human capabilities in software development.\n"
     ]
    }
   ],
   "source": [
    "test_claude = conversation_model(model_name=\"claude-3-5-sonnet-20240620\", model_type=\"anthropic\",context=\"You are a helpful assistant\",question=\"what is cursorai?\",streaming=True, callbacks=[stream_handler])"
   ]
  },
  {
   "cell_type": "code",
   "execution_count": 17,
   "metadata": {},
   "outputs": [
    {
     "name": "stdout",
     "output_type": "stream",
     "text": [
      "s3 path given : None\n",
      "Conversation saved to file as s3_path not given: ./examples/test3_claude.txt\n"
     ]
    },
    {
     "data": {
      "text/plain": [
       "True"
      ]
     },
     "execution_count": 17,
     "metadata": {},
     "output_type": "execute_result"
    }
   ],
   "source": [
    "test_claude.save_conversation(file_path=\"./examples/test3_claude.txt\")"
   ]
  },
  {
   "cell_type": "code",
   "execution_count": null,
   "metadata": {},
   "outputs": [],
   "source": []
  }
 ],
 "metadata": {
  "kernelspec": {
   "display_name": "Python 3",
   "language": "python",
   "name": "python3"
  },
  "language_info": {
   "codemirror_mode": {
    "name": "ipython",
    "version": 3
   },
   "file_extension": ".py",
   "mimetype": "text/x-python",
   "name": "python",
   "nbconvert_exporter": "python",
   "pygments_lexer": "ipython3",
   "version": "3.11.6"
  }
 },
 "nbformat": 4,
 "nbformat_minor": 2
}
