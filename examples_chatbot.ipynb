{
 "cells": [
  {
   "cell_type": "code",
   "execution_count": 1,
   "metadata": {},
   "outputs": [
    {
     "name": "stderr",
     "output_type": "stream",
     "text": [
      "/home/malav/.local/lib/python3.11/site-packages/tqdm/auto.py:21: TqdmWarning: IProgress not found. Please update jupyter and ipywidgets. See https://ipywidgets.readthedocs.io/en/stable/user_install.html\n",
      "  from .autonotebook import tqdm as notebook_tqdm\n"
     ]
    }
   ],
   "source": [
    "from mb_rag.chatbot.basic import conversation_model"
   ]
  },
  {
   "cell_type": "code",
   "execution_count": 2,
   "metadata": {},
   "outputs": [
    {
     "name": "stdout",
     "output_type": "stream",
     "text": [
      "\u001b[0;31mInit signature:\u001b[0m\n",
      "\u001b[0mconversation_model\u001b[0m\u001b[0;34m(\u001b[0m\u001b[0;34m\u001b[0m\n",
      "\u001b[0;34m\u001b[0m    \u001b[0mmodel_name\u001b[0m\u001b[0;34m:\u001b[0m \u001b[0mstr\u001b[0m \u001b[0;34m=\u001b[0m \u001b[0;34m'gpt-4o'\u001b[0m\u001b[0;34m,\u001b[0m\u001b[0;34m\u001b[0m\n",
      "\u001b[0;34m\u001b[0m    \u001b[0mmodel_type\u001b[0m\u001b[0;34m:\u001b[0m \u001b[0mstr\u001b[0m \u001b[0;34m=\u001b[0m \u001b[0;34m'openai'\u001b[0m\u001b[0;34m,\u001b[0m\u001b[0;34m\u001b[0m\n",
      "\u001b[0;34m\u001b[0m    \u001b[0mfile_path\u001b[0m\u001b[0;34m:\u001b[0m \u001b[0mstr\u001b[0m \u001b[0;34m=\u001b[0m \u001b[0;32mNone\u001b[0m\u001b[0;34m,\u001b[0m\u001b[0;34m\u001b[0m\n",
      "\u001b[0;34m\u001b[0m    \u001b[0mcontext\u001b[0m\u001b[0;34m:\u001b[0m \u001b[0mstr\u001b[0m \u001b[0;34m=\u001b[0m \u001b[0;32mNone\u001b[0m\u001b[0;34m,\u001b[0m\u001b[0;34m\u001b[0m\n",
      "\u001b[0;34m\u001b[0m    \u001b[0mquestion\u001b[0m\u001b[0;34m:\u001b[0m \u001b[0mstr\u001b[0m \u001b[0;34m=\u001b[0m \u001b[0;32mNone\u001b[0m\u001b[0;34m,\u001b[0m\u001b[0;34m\u001b[0m\n",
      "\u001b[0;34m\u001b[0m    \u001b[0;34m**\u001b[0m\u001b[0mkwargs\u001b[0m\u001b[0;34m,\u001b[0m\u001b[0;34m\u001b[0m\n",
      "\u001b[0;34m\u001b[0m\u001b[0;34m)\u001b[0m\u001b[0;34m\u001b[0m\u001b[0;34m\u001b[0m\u001b[0m\n",
      "\u001b[0;31mDocstring:\u001b[0m     \n",
      "A class to represent a conversation model\n",
      "Attributes:\n",
      "    chatbot (ChatOpenAI): Chatbot model\n",
      "    context (str): Context of the conversation\n",
      "    question (str): Question to ask\n",
      "    message_list (list): List of messages in the conversation\n",
      "    file_path (str): Path to the conversation file (if s3_path then add s3_path='loc' and client and bucket)\n",
      "\u001b[0;31mFile:\u001b[0m           ~/Desktop/mb_packages/mb_rag/mb_rag/chatbot/basic.py\n",
      "\u001b[0;31mType:\u001b[0m           type\n",
      "\u001b[0;31mSubclasses:\u001b[0m     "
     ]
    }
   ],
   "source": [
    "conversation_model?"
   ]
  },
  {
   "cell_type": "code",
   "execution_count": 13,
   "metadata": {},
   "outputs": [],
   "source": [
    "#testing openai"
   ]
  },
  {
   "cell_type": "code",
   "execution_count": 5,
   "metadata": {},
   "outputs": [
    {
     "name": "stdout",
     "output_type": "stream",
     "text": [
      "Conversation loaded from file: ./examples/test1.txt\n",
      "Is there anything else you would like to know or calculate?\n"
     ]
    }
   ],
   "source": [
    "load_chat_openai = conversation_model(model_name=\"gpt-4o\", model_type=\"openai\",file_path=\"./examples/test1.txt\")"
   ]
  },
  {
   "cell_type": "code",
   "execution_count": 7,
   "metadata": {},
   "outputs": [
    {
     "data": {
      "text/plain": [
       "[SystemMessage(content='addition\\n'),\n",
       " SystemMessage(content='\\n'),\n",
       " SystemMessage(content='what is 4+4?\\n'),\n",
       " SystemMessage(content='\\n'),\n",
       " SystemMessage(content='4 + 4 equals 8.\\n'),\n",
       " SystemMessage(content='\\n'),\n",
       " SystemMessage(content='If you have any more questions or need further assistance, feel free to ask!\\n'),\n",
       " SystemMessage(content='\\n'),\n",
       " SystemMessage(content='\\n'),\n",
       " SystemMessage(content='what is 12+13?\\n'),\n",
       " SystemMessage(content='\\n'),\n",
       " SystemMessage(content='\\n'),\n",
       " SystemMessage(content='12 + 13 equals 25. If you have any more questions, feel free to ask!\\n'),\n",
       " SystemMessage(content='\\n'),\n",
       " SystemMessage(content='\\n'),\n",
       " SystemMessage(content='If you have more questions or need further assistance, feel free to ask!\\n'),\n",
       " SystemMessage(content='\\n'),\n",
       " SystemMessage(content='\\n'),\n",
       " SystemMessage(content='what is 12+13?\\n'),\n",
       " SystemMessage(content='\\n'),\n",
       " SystemMessage(content='\\n'),\n",
       " SystemMessage(content='12 + 13 equals 25. If you have any more questions or need further assistance, feel free to ask!\\n'),\n",
       " SystemMessage(content='\\n'),\n",
       " SystemMessage(content='\\n'),\n",
       " SystemMessage(content='If you have more questions or need further assistance, feel free to ask!\\n'),\n",
       " SystemMessage(content='\\n'),\n",
       " SystemMessage(content='what is 12+13?\\n'),\n",
       " SystemMessage(content='\\n'),\n",
       " SystemMessage(content='12 + 13 equals 25. If you have any more questions or need further assistance, feel free to ask!\\n'),\n",
       " SystemMessage(content='\\n'),\n",
       " SystemMessage(content='Is there anything else you would like to know or calculate?\\n'),\n",
       " SystemMessage(content='what is 12+13?\\n'),\n",
       " SystemMessage(content='12 + 13 equals 25. If you have any more questions or need further assistance, feel free to ask!\\n'),\n",
       " AIMessage(content='Is there anything else you would like to know or calculate?')]"
      ]
     },
     "execution_count": 7,
     "metadata": {},
     "output_type": "execute_result"
    }
   ],
   "source": [
    "load_chat_openai.get_all_messages()"
   ]
  },
  {
   "cell_type": "code",
   "execution_count": 10,
   "metadata": {},
   "outputs": [
    {
     "name": "stdout",
     "output_type": "stream",
     "text": [
      "12 + 17 equals 29. If you have any more questions or need further assistance, feel free to ask!"
     ]
    },
    {
     "data": {
      "text/plain": [
       "'12 + 17 equals 29. If you have any more questions or need further assistance, feel free to ask!'"
      ]
     },
     "execution_count": 10,
     "metadata": {},
     "output_type": "execute_result"
    }
   ],
   "source": [
    "load_chat_openai.add_message('what is 12+17?')"
   ]
  },
  {
   "cell_type": "code",
   "execution_count": 11,
   "metadata": {},
   "outputs": [
    {
     "data": {
      "text/plain": [
       "[SystemMessage(content='addition\\n'),\n",
       " SystemMessage(content='\\n'),\n",
       " SystemMessage(content='what is 4+4?\\n'),\n",
       " SystemMessage(content='\\n'),\n",
       " SystemMessage(content='4 + 4 equals 8.\\n'),\n",
       " SystemMessage(content='\\n'),\n",
       " SystemMessage(content='If you have any more questions or need further assistance, feel free to ask!\\n'),\n",
       " SystemMessage(content='\\n'),\n",
       " SystemMessage(content='\\n'),\n",
       " SystemMessage(content='what is 12+13?\\n'),\n",
       " SystemMessage(content='\\n'),\n",
       " SystemMessage(content='\\n'),\n",
       " SystemMessage(content='12 + 13 equals 25. If you have any more questions, feel free to ask!\\n'),\n",
       " SystemMessage(content='\\n'),\n",
       " SystemMessage(content='\\n'),\n",
       " SystemMessage(content='If you have more questions or need further assistance, feel free to ask!\\n'),\n",
       " SystemMessage(content='\\n'),\n",
       " SystemMessage(content='\\n'),\n",
       " SystemMessage(content='what is 12+13?\\n'),\n",
       " SystemMessage(content='\\n'),\n",
       " SystemMessage(content='\\n'),\n",
       " SystemMessage(content='12 + 13 equals 25. If you have any more questions or need further assistance, feel free to ask!\\n'),\n",
       " SystemMessage(content='\\n'),\n",
       " SystemMessage(content='\\n'),\n",
       " SystemMessage(content='If you have more questions or need further assistance, feel free to ask!\\n'),\n",
       " SystemMessage(content='\\n'),\n",
       " SystemMessage(content='what is 12+13?\\n'),\n",
       " SystemMessage(content='\\n'),\n",
       " SystemMessage(content='12 + 13 equals 25. If you have any more questions or need further assistance, feel free to ask!\\n'),\n",
       " SystemMessage(content='\\n'),\n",
       " SystemMessage(content='Is there anything else you would like to know or calculate?\\n'),\n",
       " SystemMessage(content='what is 12+13?\\n'),\n",
       " SystemMessage(content='12 + 13 equals 25. If you have any more questions or need further assistance, feel free to ask!\\n'),\n",
       " AIMessage(content='Is there anything else you would like to know or calculate?'),\n",
       " HumanMessage(content='what is 12+17?'),\n",
       " AIMessage(content='12 + 17 equals 29. If you have any more questions or calculations, feel free to ask!'),\n",
       " HumanMessage(content='what is 12+17?explain in detail'),\n",
       " AIMessage(content=\"Sure, let's break it down step by step.\\n\\n### Step-by-Step Explanation:\\n\\n1. **Write down the numbers vertically aligning by place value:**\\n\\n   ```\\n     12\\n   + 17\\n   ```\\n\\n2. **Add the digits in the rightmost column (ones place):**\\n   \\n   - The ones place digits are 2 and 7.\\n   - Add 2 + 7 = 9.\\n   \\n   Write down 9 in the ones place.\\n\\n3. **Add the digits in the next column to the left (tens place):**\\n   \\n   - The tens place digits are 1 and 1.\\n   - Add 1 + 1 = 2.\\n   \\n   Write down 2 in the tens place.\\n\\n4. **Combine the results:**\\n\\n   Now you have the digits: 2 in the tens place and 9 in the ones place, which together make 29.\\n\\nSo, 12 + 17 equals 29.\\n\\nIf you have any more questions or need further assistance, feel free to ask!\"),\n",
       " HumanMessage(content='what is 12+17?'),\n",
       " AIMessage(content='12 + 17 equals 29. If you have any more questions or need further assistance, feel free to ask!')]"
      ]
     },
     "execution_count": 11,
     "metadata": {},
     "output_type": "execute_result"
    }
   ],
   "source": [
    "load_chat_openai.get_all_messages()"
   ]
  },
  {
   "cell_type": "code",
   "execution_count": 12,
   "metadata": {},
   "outputs": [
    {
     "name": "stdout",
     "output_type": "stream",
     "text": [
      "s3 path given : None\n",
      "Conversation saved to file as s3_path not given: ./examples/test1.txt\n"
     ]
    },
    {
     "data": {
      "text/plain": [
       "True"
      ]
     },
     "execution_count": 12,
     "metadata": {},
     "output_type": "execute_result"
    }
   ],
   "source": [
    "load_chat_openai.save_conversation(file_path=\"./examples/test1.txt\")"
   ]
  },
  {
   "cell_type": "code",
   "execution_count": 8,
   "metadata": {},
   "outputs": [
    {
     "name": "stdout",
     "output_type": "stream",
     "text": [
      "As of my last update in October 2023, there isn't a widely recognized or established entity known as \"CursorAI.\" It's possible that it could be a new or niche technology, product, company, or concept that has emerged recently or is not widely known.\n",
      "\n",
      "If \"CursorAI\" refers to a specific technology or product you're inquiring about, providing more context would be helpful. It could be something related to artificial intelligence, machine learning, or a tool involving cursor-based interactions, but without additional details, it's challenging to provide a precise description.\n",
      "\n",
      "If you have more information or context about \"CursorAI,\" feel free to share it, and I'll do my best to help!\n"
     ]
    }
   ],
   "source": [
    "new_chat = conversation_model(model_name=\"gpt-4o\", model_type=\"openai\",context=\"You are a helpful assistant\",question=\"what is cursorai?\")"
   ]
  },
  {
   "cell_type": "code",
   "execution_count": 9,
   "metadata": {},
   "outputs": [
    {
     "name": "stdout",
     "output_type": "stream",
     "text": [
      "s3 path given : None\n",
      "Conversation saved to file as s3_path not given: ./examples/test2.txt\n"
     ]
    },
    {
     "data": {
      "text/plain": [
       "True"
      ]
     },
     "execution_count": 9,
     "metadata": {},
     "output_type": "execute_result"
    }
   ],
   "source": [
    "new_chat.save_conversation(file_path=\"./examples/test2.txt\")"
   ]
  },
  {
   "cell_type": "code",
   "execution_count": 6,
   "metadata": {},
   "outputs": [],
   "source": [
    "## testing claude and streaming"
   ]
  },
  {
   "cell_type": "code",
   "execution_count": 4,
   "metadata": {},
   "outputs": [],
   "source": [
    "from langchain.callbacks.streaming_stdout import StreamingStdOutCallbackHandler\n",
    "from IPython.display import display, HTML\n",
    "\n",
    "class IPythonStreamHandler(StreamingStdOutCallbackHandler):\n",
    "    def __init__(self):\n",
    "        self.output = \"\"\n",
    "        \n",
    "    def on_llm_new_token(self, token: str, **kwargs) -> None:\n",
    "        self.output += token\n",
    "        display(HTML(self.output), clear=True)\n",
    "stream_handler = IPythonStreamHandler()\n"
   ]
  },
  {
   "cell_type": "code",
   "execution_count": 5,
   "metadata": {},
   "outputs": [
    {
     "data": {
      "text/html": [
       "CursorAI is an artificial intelligence-powered text editor and coding assistant developed by Anthropic. It's designed to help users with various writing and coding tasks by providing intelligent autocomplete suggestions, answering questions, and offering assistance with coding and text generation.\n",
       "\n",
       "Key features of CursorAI include:\n",
       "\n",
       "1. Code Completion: It can suggest code completions as you type, helping to speed up the coding process.\n",
       "\n",
       "2. Natural Language Processing: You can ask it questions or give it instructions in natural language, and it will attempt to provide relevant answers or perform the requested tasks.\n",
       "\n",
       "3. Multi-language Support: It supports multiple programming languages and can assist with various coding tasks.\n",
       "\n",
       "4. Text Generation: It can help with writing tasks by generating text based on prompts or continuing from existing text.\n",
       "\n",
       "5. Customization: Users can customize the AI's behavior to some extent to better suit their needs.\n",
       "\n",
       "6. Integration: It integrates with popular code editors and development environments.\n",
       "\n",
       "CursorAI aims to enhance productivity for programmers and writers by providing context-aware assistance and reducing the time spent on repetitive tasks. It's part of a growing trend of AI-assisted tools in the software development and content creation fields.\n",
       "\n",
       "It's worth noting that as AI technology is rapidly evolving, the specific features and capabilities of CursorAI may have been updated since this information was last verified."
      ],
      "text/plain": [
       "<IPython.core.display.HTML object>"
      ]
     },
     "metadata": {},
     "output_type": "display_data"
    },
    {
     "name": "stdout",
     "output_type": "stream",
     "text": [
      "CursorAI is an artificial intelligence-powered text editor and coding assistant developed by Anthropic. It's designed to help users with various writing and coding tasks by providing intelligent autocomplete suggestions, answering questions, and offering assistance with coding and text generation.\n",
      "\n",
      "Key features of CursorAI include:\n",
      "\n",
      "1. Code Completion: It can suggest code completions as you type, helping to speed up the coding process.\n",
      "\n",
      "2. Natural Language Processing: You can ask it questions or give it instructions in natural language, and it will attempt to provide relevant answers or perform the requested tasks.\n",
      "\n",
      "3. Multi-language Support: It supports multiple programming languages and can assist with various coding tasks.\n",
      "\n",
      "4. Text Generation: It can help with writing tasks by generating text based on prompts or continuing from existing text.\n",
      "\n",
      "5. Customization: Users can customize the AI's behavior to some extent to better suit their needs.\n",
      "\n",
      "6. Integration: It integrates with popular code editors and development environments.\n",
      "\n",
      "CursorAI aims to enhance productivity for programmers and writers by providing context-aware assistance and reducing the time spent on repetitive tasks. It's part of a growing trend of AI-assisted tools in the software development and content creation fields.\n",
      "\n",
      "It's worth noting that as AI technology is rapidly evolving, the specific features and capabilities of CursorAI may have been updated since this information was last verified.\n"
     ]
    }
   ],
   "source": [
    "test_claude = conversation_model(model_name=\"claude-3-5-sonnet-20240620\", model_type=\"anthropic\",context=\"You are a helpful assistant\",question=\"what is cursorai?\",streaming=True, callbacks=[stream_handler])"
   ]
  },
  {
   "cell_type": "code",
   "execution_count": 7,
   "metadata": {},
   "outputs": [
    {
     "name": "stdout",
     "output_type": "stream",
     "text": [
      "s3 path given : None\n",
      "Conversation saved to file as s3_path not given: ./examples/test3_claude.txt\n"
     ]
    },
    {
     "data": {
      "text/plain": [
       "True"
      ]
     },
     "execution_count": 7,
     "metadata": {},
     "output_type": "execute_result"
    }
   ],
   "source": [
    "test_claude.save_conversation(file_path=\"./examples/test3_claude.txt\")"
   ]
  },
  {
   "cell_type": "code",
   "execution_count": 5,
   "metadata": {},
   "outputs": [
    {
     "name": "stdout",
     "output_type": "stream",
     "text": [
      "CursorAI is an AI-powered code editor that helps developers write, edit, and debug code faster. \n",
      "\n",
      "s3 path given : None\n",
      "Conversation saved to file as s3_path not given: ./examples/test4_google.txt\n"
     ]
    },
    {
     "data": {
      "text/plain": [
       "True"
      ]
     },
     "execution_count": 5,
     "metadata": {},
     "output_type": "execute_result"
    }
   ],
   "source": [
    "## testing google\n",
    "test_google = conversation_model(model_name=\"gemini-1.5-pro\", model_type=\"google\",context=\"You are a helpful assistant\",question=\"what is cursorai in 20 words?\",streaming=True, callbacks=[stream_handler])\n",
    "test_google.save_conversation(file_path=\"./examples/test4_google.txt\")"
   ]
  },
  {
   "cell_type": "code",
   "execution_count": 3,
   "metadata": {},
   "outputs": [
    {
     "name": "stdout",
     "output_type": "stream",
     "text": [
      "Cursorily means doing something casually or superficially, without much thought or effort, often resulting in a lack of thoroughness.\n",
      "s3 path given : None\n",
      "Conversation saved to file as s3_path not given: ./examples/test5_ollama.txt\n"
     ]
    },
    {
     "data": {
      "text/plain": [
       "True"
      ]
     },
     "execution_count": 3,
     "metadata": {},
     "output_type": "execute_result"
    }
   ],
   "source": [
    "## testing ollama - make sure to have ollama server running\n",
    "test_ollama = conversation_model(model_name=\"llama3.1\", model_type=\"ollama\",context=\"You are a helpful assistant\",question=\"what is cursorai in 20 words?\")\n",
    "test_ollama.save_conversation(file_path=\"./examples/test5_ollama.txt\")"
   ]
  },
  {
   "cell_type": "code",
   "execution_count": null,
   "metadata": {},
   "outputs": [],
   "source": []
  }
 ],
 "metadata": {
  "kernelspec": {
   "display_name": "Python 3",
   "language": "python",
   "name": "python3"
  },
  "language_info": {
   "codemirror_mode": {
    "name": "ipython",
    "version": 3
   },
   "file_extension": ".py",
   "mimetype": "text/x-python",
   "name": "python",
   "nbconvert_exporter": "python",
   "pygments_lexer": "ipython3",
   "version": "3.11.6"
  }
 },
 "nbformat": 4,
 "nbformat_minor": 2
}
