{
 "cells": [
  {
   "cell_type": "code",
   "execution_count": 1,
   "id": "918e2131",
   "metadata": {},
   "outputs": [],
   "source": [
    "from mb_rag.basic import ModelFactory\n",
    "llm = ModelFactory(model_type='google', model_name='gemini-2.0-flash')"
   ]
  },
  {
   "cell_type": "code",
   "execution_count": 2,
   "id": "0ddf2794",
   "metadata": {},
   "outputs": [],
   "source": [
    "from mb_rag.chatbot.conversation import ConversationModel"
   ]
  },
  {
   "cell_type": "code",
   "execution_count": 3,
   "id": "3ee8b5fe",
   "metadata": {},
   "outputs": [],
   "source": [
    "con = ConversationModel(llm)"
   ]
  },
  {
   "cell_type": "code",
   "execution_count": 4,
   "id": "72fcc250",
   "metadata": {},
   "outputs": [],
   "source": [
    "con.initialize_conversation()"
   ]
  },
  {
   "cell_type": "code",
   "execution_count": 5,
   "id": "830cd4e0",
   "metadata": {},
   "outputs": [
    {
     "data": {
      "text/plain": [
       "'Hello! How can I help you today?'"
      ]
     },
     "execution_count": 5,
     "metadata": {},
     "output_type": "execute_result"
    }
   ],
   "source": [
    "con.add_message('hello')"
   ]
  },
  {
   "cell_type": "code",
   "execution_count": 6,
   "id": "22db87f9",
   "metadata": {},
   "outputs": [
    {
     "name": "stdout",
     "output_type": "stream",
     "text": [
      "Conversation saved to file: ./examples/test_con.txt\n"
     ]
    },
    {
     "data": {
      "text/plain": [
       "True"
      ]
     },
     "execution_count": 6,
     "metadata": {},
     "output_type": "execute_result"
    }
   ],
   "source": [
    "con.save_conversation('./examples/test_con.txt')"
   ]
  },
  {
   "cell_type": "code",
   "execution_count": 7,
   "id": "d110c357",
   "metadata": {},
   "outputs": [
    {
     "data": {
      "text/plain": [
       "[HumanMessage(content='hello', additional_kwargs={}, response_metadata={}),\n",
       " AIMessage(content='Hello! How can I help you today?', additional_kwargs={}, response_metadata={})]"
      ]
     },
     "execution_count": 7,
     "metadata": {},
     "output_type": "execute_result"
    }
   ],
   "source": [
    "con.message_list"
   ]
  },
  {
   "cell_type": "code",
   "execution_count": 8,
   "id": "c33f4a71",
   "metadata": {},
   "outputs": [
    {
     "data": {
      "text/plain": [
       "['hello', 'Hello! How can I help you today?']"
      ]
     },
     "execution_count": 8,
     "metadata": {},
     "output_type": "execute_result"
    }
   ],
   "source": [
    "con.all_messages_content"
   ]
  },
  {
   "cell_type": "code",
   "execution_count": null,
   "id": "f607ea04",
   "metadata": {},
   "outputs": [],
   "source": []
  },
  {
   "cell_type": "code",
   "execution_count": 3,
   "id": "aaa58b31",
   "metadata": {},
   "outputs": [],
   "source": [
    "new_con = ConversationModel(llm,file_path=\"./examples/test_con.txt\")"
   ]
  },
  {
   "cell_type": "code",
   "execution_count": 4,
   "id": "1325a16e",
   "metadata": {},
   "outputs": [
    {
     "name": "stdout",
     "output_type": "stream",
     "text": [
      "Conversation loaded from file: ./examples/test_con.txt\n"
     ]
    },
    {
     "data": {
      "text/plain": [
       "'Okay, I understand. I\\'m ready to help.\\n\\nBased on our conversation history, we\\'ve just started talking. There\\'s not much to go on yet! It consists of:\\n\\n1.  **Me:** Saying \"Hello!\"\\n2.  **You:** Saying \"Hello\" and then giving me instructions to look into the conversation history and answer questions if provided, and to give a brief introduction of the conversation history.\\n\\nSo, in short, we\\'ve just begun. I\\'m now aware that you want me to use the conversation history to answer questions and provide context.\\n\\nWhat can I do for you now? Do you have a question?'"
      ]
     },
     "execution_count": 4,
     "metadata": {},
     "output_type": "execute_result"
    }
   ],
   "source": [
    "new_con.initialize_conversation()"
   ]
  },
  {
   "cell_type": "code",
   "execution_count": 5,
   "id": "e78add35",
   "metadata": {},
   "outputs": [
    {
     "data": {
      "text/plain": [
       "[SystemMessage(content='hello\\n', additional_kwargs={}, response_metadata={}),\n",
       " SystemMessage(content='Hello! How can I help you today?\\n', additional_kwargs={}, response_metadata={}),\n",
       " SystemMessage(content='This is conversation model. \\n                            Look into the conversation history and answer the question if provided.\\n                            Give a brief introduction of the conversation history.', additional_kwargs={}, response_metadata={}),\n",
       " HumanMessage(content='hello\\nHello! How can I help you today?\\nThis is conversation model. \\n                            Look into the conversation history and answer the question if provided.\\n                            Give a brief introduction of the conversation history.', additional_kwargs={}, response_metadata={}),\n",
       " AIMessage(content='Okay, I understand. I\\'m ready to help.\\n\\nBased on our conversation history, we\\'ve just started talking. There\\'s not much to go on yet! It consists of:\\n\\n1.  **Me:** Saying \"Hello!\"\\n2.  **You:** Saying \"Hello\" and then giving me instructions to look into the conversation history and answer questions if provided, and to give a brief introduction of the conversation history.\\n\\nSo, in short, we\\'ve just begun. I\\'m now aware that you want me to use the conversation history to answer questions and provide context.\\n\\nWhat can I do for you now? Do you have a question?', additional_kwargs={}, response_metadata={})]"
      ]
     },
     "execution_count": 5,
     "metadata": {},
     "output_type": "execute_result"
    }
   ],
   "source": [
    "new_con.all_messages"
   ]
  },
  {
   "cell_type": "code",
   "execution_count": null,
   "id": "d80349a2",
   "metadata": {},
   "outputs": [],
   "source": []
  },
  {
   "cell_type": "code",
   "execution_count": null,
   "id": "d9ea7d69",
   "metadata": {},
   "outputs": [],
   "source": []
  },
  {
   "cell_type": "code",
   "execution_count": null,
   "id": "717bd083",
   "metadata": {},
   "outputs": [],
   "source": []
  }
 ],
 "metadata": {
  "kernelspec": {
   "display_name": "Python 3",
   "language": "python",
   "name": "python3"
  },
  "language_info": {
   "codemirror_mode": {
    "name": "ipython",
    "version": 3
   },
   "file_extension": ".py",
   "mimetype": "text/x-python",
   "name": "python",
   "nbconvert_exporter": "python",
   "pygments_lexer": "ipython3",
   "version": "3.13.7"
  }
 },
 "nbformat": 4,
 "nbformat_minor": 5
}
