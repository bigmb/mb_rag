{
 "cells": [
  {
   "cell_type": "code",
   "execution_count": 1,
   "metadata": {},
   "outputs": [
    {
     "name": "stderr",
     "output_type": "stream",
     "text": [
      "/home/malav/.local/lib/python3.11/site-packages/tqdm/auto.py:21: TqdmWarning: IProgress not found. Please update jupyter and ipywidgets. See https://ipywidgets.readthedocs.io/en/stable/user_install.html\n",
      "  from .autonotebook import tqdm as notebook_tqdm\n"
     ]
    }
   ],
   "source": [
    "from mb_rag.chatbot.basic import conversation_model"
   ]
  },
  {
   "cell_type": "code",
   "execution_count": 2,
   "metadata": {},
   "outputs": [
    {
     "name": "stdout",
     "output_type": "stream",
     "text": [
      "\u001b[0;31mInit signature:\u001b[0m\n",
      "\u001b[0mconversation_model\u001b[0m\u001b[0;34m(\u001b[0m\u001b[0;34m\u001b[0m\n",
      "\u001b[0;34m\u001b[0m    \u001b[0mmodel_name\u001b[0m\u001b[0;34m:\u001b[0m \u001b[0mstr\u001b[0m \u001b[0;34m=\u001b[0m \u001b[0;34m'gpt-4o'\u001b[0m\u001b[0;34m,\u001b[0m\u001b[0;34m\u001b[0m\n",
      "\u001b[0;34m\u001b[0m    \u001b[0mmodel_type\u001b[0m\u001b[0;34m:\u001b[0m \u001b[0mstr\u001b[0m \u001b[0;34m=\u001b[0m \u001b[0;34m'openai'\u001b[0m\u001b[0;34m,\u001b[0m\u001b[0;34m\u001b[0m\n",
      "\u001b[0;34m\u001b[0m    \u001b[0mfile_path\u001b[0m\u001b[0;34m:\u001b[0m \u001b[0mstr\u001b[0m \u001b[0;34m=\u001b[0m \u001b[0;32mNone\u001b[0m\u001b[0;34m,\u001b[0m\u001b[0;34m\u001b[0m\n",
      "\u001b[0;34m\u001b[0m    \u001b[0mcontext\u001b[0m\u001b[0;34m:\u001b[0m \u001b[0mstr\u001b[0m \u001b[0;34m=\u001b[0m \u001b[0;32mNone\u001b[0m\u001b[0;34m,\u001b[0m\u001b[0;34m\u001b[0m\n",
      "\u001b[0;34m\u001b[0m    \u001b[0mquestion\u001b[0m\u001b[0;34m:\u001b[0m \u001b[0mstr\u001b[0m \u001b[0;34m=\u001b[0m \u001b[0;32mNone\u001b[0m\u001b[0;34m,\u001b[0m\u001b[0;34m\u001b[0m\n",
      "\u001b[0;34m\u001b[0m    \u001b[0;34m**\u001b[0m\u001b[0mkwargs\u001b[0m\u001b[0;34m,\u001b[0m\u001b[0;34m\u001b[0m\n",
      "\u001b[0;34m\u001b[0m\u001b[0;34m)\u001b[0m\u001b[0;34m\u001b[0m\u001b[0;34m\u001b[0m\u001b[0m\n",
      "\u001b[0;31mDocstring:\u001b[0m     \n",
      "A class to represent a conversation model\n",
      "Attributes:\n",
      "    chatbot (ChatOpenAI): Chatbot model\n",
      "    context (str): Context of the conversation\n",
      "    question (str): Question to ask\n",
      "    message_list (list): List of messages in the conversation\n",
      "    file_path (str): Path to the conversation file (if s3_path then add s3_path='loc' and client and bucket)\n",
      "\u001b[0;31mFile:\u001b[0m           ~/Desktop/mb_packages/mb_rag/mb_rag/chatbot/basic.py\n",
      "\u001b[0;31mType:\u001b[0m           type\n",
      "\u001b[0;31mSubclasses:\u001b[0m     "
     ]
    }
   ],
   "source": [
    "conversation_model?"
   ]
  },
  {
   "cell_type": "code",
   "execution_count": 4,
   "metadata": {},
   "outputs": [
    {
     "name": "stdout",
     "output_type": "stream",
     "text": [
      "Conversation loaded from file: ./examples/test1.txt\n",
      "Would you like to solve another problem or is there something else you need help with?\n"
     ]
    }
   ],
   "source": [
    "load_chat = conversation_model(model_name=\"gpt-4o\", model_type=\"openai\",file_path=\"./examples/test1.txt\")"
   ]
  },
  {
   "cell_type": "code",
   "execution_count": 5,
   "metadata": {},
   "outputs": [
    {
     "data": {
      "text/plain": [
       "[SystemMessage(content='addition\\n'),\n",
       " SystemMessage(content='\\n'),\n",
       " SystemMessage(content='what is 4+4?\\n'),\n",
       " SystemMessage(content='\\n'),\n",
       " SystemMessage(content='4 + 4 equals 8.\\n'),\n",
       " SystemMessage(content='\\n'),\n",
       " SystemMessage(content='Is there anything else you would like to know or calculate?\\n'),\n",
       " SystemMessage(content='what is 4+5?\\n'),\n",
       " SystemMessage(content='4 + 5 equals 9.\\n'),\n",
       " AIMessage(content='Would you like to solve another problem or is there something else you need help with?')]"
      ]
     },
     "execution_count": 5,
     "metadata": {},
     "output_type": "execute_result"
    }
   ],
   "source": [
    "load_chat.get_all_messages()"
   ]
  },
  {
   "cell_type": "code",
   "execution_count": 7,
   "metadata": {},
   "outputs": [
    {
     "name": "stdout",
     "output_type": "stream",
     "text": [
      "12 + 13 equals 25.\n"
     ]
    },
    {
     "data": {
      "text/plain": [
       "'12 + 13 equals 25.'"
      ]
     },
     "execution_count": 7,
     "metadata": {},
     "output_type": "execute_result"
    }
   ],
   "source": [
    "load_chat.add_message('what is 12+13?')"
   ]
  },
  {
   "cell_type": "code",
   "execution_count": 8,
   "metadata": {},
   "outputs": [
    {
     "data": {
      "text/plain": [
       "[SystemMessage(content='addition\\n'),\n",
       " SystemMessage(content='\\n'),\n",
       " SystemMessage(content='what is 4+4?\\n'),\n",
       " SystemMessage(content='\\n'),\n",
       " SystemMessage(content='4 + 4 equals 8.\\n'),\n",
       " SystemMessage(content='\\n'),\n",
       " SystemMessage(content='Is there anything else you would like to know or calculate?\\n'),\n",
       " SystemMessage(content='what is 4+5?\\n'),\n",
       " SystemMessage(content='4 + 5 equals 9.\\n'),\n",
       " AIMessage(content='Would you like to solve another problem or is there something else you need help with?'),\n",
       " HumanMessage(content='what is 12+13?'),\n",
       " AIMessage(content='12 + 13 equals 25.')]"
      ]
     },
     "execution_count": 8,
     "metadata": {},
     "output_type": "execute_result"
    }
   ],
   "source": [
    "load_chat.get_all_messages()"
   ]
  },
  {
   "cell_type": "code",
   "execution_count": 9,
   "metadata": {},
   "outputs": [
    {
     "name": "stdout",
     "output_type": "stream",
     "text": [
      "s3 path given : None\n",
      "Conversation saved to file as s3_path not given: ./examples/test1.txt\n"
     ]
    },
    {
     "data": {
      "text/plain": [
       "True"
      ]
     },
     "execution_count": 9,
     "metadata": {},
     "output_type": "execute_result"
    }
   ],
   "source": [
    "load_chat.save_conversation(file_path=\"./examples/test1.txt\")"
   ]
  },
  {
   "cell_type": "code",
   "execution_count": 10,
   "metadata": {},
   "outputs": [
    {
     "name": "stdout",
     "output_type": "stream",
     "text": [
      "As of my last update in October 2023, CursorAI is not a widely recognized or established term or product in the public domain. It’s possible that CursorAI could refer to a specialized or emerging technology, software, or tool that involves artificial intelligence (AI) in relation to cursor movements, user interfaces, or some other application.\n",
      "\n",
      "If you have more specific context or details about CursorAI, I can provide more tailored information. It’s also worth checking the latest sources or official announcements if this is a very recent development.\n"
     ]
    }
   ],
   "source": [
    "new_chat = conversation_model(model_name=\"gpt-4o\", model_type=\"openai\",context=\"You are a helpful assistant\",question=\"what is cursorai?\")"
   ]
  },
  {
   "cell_type": "code",
   "execution_count": 11,
   "metadata": {},
   "outputs": [
    {
     "name": "stdout",
     "output_type": "stream",
     "text": [
      "s3 path given : None\n",
      "Conversation saved to file as s3_path not given: ./examples/test2.txt\n"
     ]
    },
    {
     "data": {
      "text/plain": [
       "True"
      ]
     },
     "execution_count": 11,
     "metadata": {},
     "output_type": "execute_result"
    }
   ],
   "source": [
    "new_chat.save_conversation(file_path=\"./examples/test2.txt\")"
   ]
  },
  {
   "cell_type": "code",
   "execution_count": null,
   "metadata": {},
   "outputs": [],
   "source": []
  }
 ],
 "metadata": {
  "kernelspec": {
   "display_name": "Python 3",
   "language": "python",
   "name": "python3"
  },
  "language_info": {
   "codemirror_mode": {
    "name": "ipython",
    "version": 3
   },
   "file_extension": ".py",
   "mimetype": "text/x-python",
   "name": "python",
   "nbconvert_exporter": "python",
   "pygments_lexer": "ipython3",
   "version": "3.11.6"
  }
 },
 "nbformat": 4,
 "nbformat_minor": 2
}
